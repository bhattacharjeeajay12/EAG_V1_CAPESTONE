{
 "cells": [
  {
   "metadata": {
    "ExecuteTime": {
     "end_time": "2025-08-25T06:27:25.864558Z",
     "start_time": "2025-08-25T06:27:25.856564Z"
    }
   },
   "cell_type": "code",
   "source": "pwd",
   "id": "824b23ea34458c6e",
   "outputs": [
    {
     "data": {
      "text/plain": [
       "'D:\\\\Study\\\\Programs\\\\TSAI\\\\EAG_V1_CAPESTONE'"
      ]
     },
     "execution_count": 1,
     "metadata": {},
     "output_type": "execute_result"
    }
   ],
   "execution_count": 1
  },
  {
   "metadata": {
    "ExecuteTime": {
     "end_time": "2025-08-25T06:28:11.937387Z",
     "start_time": "2025-08-25T06:28:11.933231Z"
    }
   },
   "cell_type": "code",
   "source": [
    "try:\n",
    "    import sys\n",
    "    import os\n",
    "    from mcp.mcp_client import MCPHttpClient as MCPClient\n",
    "except:\n",
    "    print(\"import error\")"
   ],
   "id": "37e6549d78e38f0d",
   "outputs": [],
   "execution_count": 3
  },
  {
   "metadata": {
    "ExecuteTime": {
     "end_time": "2025-08-25T13:17:17.929187Z",
     "start_time": "2025-08-25T13:17:17.914782Z"
    }
   },
   "cell_type": "code",
   "source": "None or []",
   "id": "abb40ae24aa0c290",
   "outputs": [
    {
     "data": {
      "text/plain": [
       "[]"
      ]
     },
     "execution_count": 4,
     "metadata": {},
     "output_type": "execute_result"
    }
   ],
   "execution_count": 4
  },
  {
   "metadata": {},
   "cell_type": "code",
   "outputs": [],
   "execution_count": null,
   "source": "",
   "id": "10c946de487afb7a"
  }
 ],
 "metadata": {
  "kernelspec": {
   "name": "python3",
   "language": "python",
   "display_name": "Python 3 (ipykernel)"
  }
 },
 "nbformat": 4,
 "nbformat_minor": 5
}
