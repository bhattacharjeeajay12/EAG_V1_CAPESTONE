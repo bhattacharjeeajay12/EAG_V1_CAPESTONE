{
 "cells": [
  {
   "cell_type": "code",
   "id": "40d002d0",
   "metadata": {
    "ExecuteTime": {
     "end_time": "2025-08-21T00:21:58.052014Z",
     "start_time": "2025-08-21T00:21:57.737479Z"
    }
   },
   "source": [
    "import pandas as pd\n",
    "import json"
   ],
   "outputs": [],
   "execution_count": 1
  },
  {
   "metadata": {
    "ExecuteTime": {
     "end_time": "2025-08-21T00:21:58.155153Z",
     "start_time": "2025-08-21T00:21:58.149643Z"
    }
   },
   "cell_type": "code",
   "source": "pwd",
   "id": "3c76e810a29ecfdc",
   "outputs": [
    {
     "data": {
      "text/plain": [
       "'D:\\\\Study\\\\Programs\\\\TSAI\\\\EAG_V1_CAPESTONE\\\\dev_docs'"
      ]
     },
     "execution_count": 2,
     "metadata": {},
     "output_type": "execute_result"
    }
   ],
   "execution_count": 2
  },
  {
   "metadata": {
    "ExecuteTime": {
     "end_time": "2025-08-21T00:21:58.977112Z",
     "start_time": "2025-08-21T00:21:58.968679Z"
    }
   },
   "cell_type": "code",
   "source": [
    "with open(r\"ecommerce_dummy_data.json\", \"r\", encoding=\"utf-8\") as f:\n",
    "    data = json.load(f)"
   ],
   "id": "36f727bbe998f84d",
   "outputs": [],
   "execution_count": 3
  },
  {
   "metadata": {
    "ExecuteTime": {
     "end_time": "2025-08-21T00:21:59.616413Z",
     "start_time": "2025-08-21T00:21:59.612243Z"
    }
   },
   "cell_type": "code",
   "source": "data.keys()",
   "id": "4c1318bfa0abd554",
   "outputs": [
    {
     "data": {
      "text/plain": [
       "dict_keys(['user', 'category', 'product', 'specification', 'buy_history', 'return'])"
      ]
     },
     "execution_count": 4,
     "metadata": {},
     "output_type": "execute_result"
    }
   ],
   "execution_count": 4
  },
  {
   "cell_type": "code",
   "id": "941b9b20",
   "metadata": {
    "ExecuteTime": {
     "end_time": "2025-08-21T00:21:59.798266Z",
     "start_time": "2025-08-21T00:21:59.780919Z"
    }
   },
   "source": [
    "user_df = pd.DataFrame(data[\"user\"])\n",
    "buy_history_df = pd.DataFrame(data[\"buy_history\"])\n",
    "category_df = pd.DataFrame(data[\"category\"])\n",
    "product_df = pd.DataFrame(data[\"product\"])\n",
    "specification_df = pd.DataFrame(data[\"specification\"])\n",
    "return_df = pd.DataFrame(data[\"return\"])"
   ],
   "outputs": [],
   "execution_count": 5
  },
  {
   "cell_type": "code",
   "id": "91b33589",
   "metadata": {
    "ExecuteTime": {
     "end_time": "2025-08-21T00:22:00.173495Z",
     "start_time": "2025-08-21T00:22:00.152440Z"
    }
   },
   "source": [
    "user_df"
   ],
   "outputs": [
    {
     "data": {
      "text/plain": [
       "   user_id first_name second_name                 email  \\\n",
       "0        1      Craig     Delgado    robert81@baker.org   \n",
       "1        2      Mario     Edwards  wvasquez@hotmail.com   \n",
       "2        3       Todd      Wilson    robert54@gmail.com   \n",
       "3        4    Michael       Short      lisa53@gmail.com   \n",
       "\n",
       "                   phone                                            address  \n",
       "0      (154)054-3813x788  90171 Alexandra Mills, Port Jillianside, AL 21228  \n",
       "1      960.290.2499x6518    97471 Brown Park Suite 053, New Kevin, AR 85256  \n",
       "2  +1-680-033-0380x56090         52466 Rachel Plaza, South Ashley, KS 06345  \n",
       "3       653.382.6231x684              1361 Sarah Ford, Denisetown, CT 35481  "
      ],
      "text/html": [
       "<div>\n",
       "<style scoped>\n",
       "    .dataframe tbody tr th:only-of-type {\n",
       "        vertical-align: middle;\n",
       "    }\n",
       "\n",
       "    .dataframe tbody tr th {\n",
       "        vertical-align: top;\n",
       "    }\n",
       "\n",
       "    .dataframe thead th {\n",
       "        text-align: right;\n",
       "    }\n",
       "</style>\n",
       "<table border=\"1\" class=\"dataframe\">\n",
       "  <thead>\n",
       "    <tr style=\"text-align: right;\">\n",
       "      <th></th>\n",
       "      <th>user_id</th>\n",
       "      <th>first_name</th>\n",
       "      <th>second_name</th>\n",
       "      <th>email</th>\n",
       "      <th>phone</th>\n",
       "      <th>address</th>\n",
       "    </tr>\n",
       "  </thead>\n",
       "  <tbody>\n",
       "    <tr>\n",
       "      <th>0</th>\n",
       "      <td>1</td>\n",
       "      <td>Craig</td>\n",
       "      <td>Delgado</td>\n",
       "      <td>robert81@baker.org</td>\n",
       "      <td>(154)054-3813x788</td>\n",
       "      <td>90171 Alexandra Mills, Port Jillianside, AL 21228</td>\n",
       "    </tr>\n",
       "    <tr>\n",
       "      <th>1</th>\n",
       "      <td>2</td>\n",
       "      <td>Mario</td>\n",
       "      <td>Edwards</td>\n",
       "      <td>wvasquez@hotmail.com</td>\n",
       "      <td>960.290.2499x6518</td>\n",
       "      <td>97471 Brown Park Suite 053, New Kevin, AR 85256</td>\n",
       "    </tr>\n",
       "    <tr>\n",
       "      <th>2</th>\n",
       "      <td>3</td>\n",
       "      <td>Todd</td>\n",
       "      <td>Wilson</td>\n",
       "      <td>robert54@gmail.com</td>\n",
       "      <td>+1-680-033-0380x56090</td>\n",
       "      <td>52466 Rachel Plaza, South Ashley, KS 06345</td>\n",
       "    </tr>\n",
       "    <tr>\n",
       "      <th>3</th>\n",
       "      <td>4</td>\n",
       "      <td>Michael</td>\n",
       "      <td>Short</td>\n",
       "      <td>lisa53@gmail.com</td>\n",
       "      <td>653.382.6231x684</td>\n",
       "      <td>1361 Sarah Ford, Denisetown, CT 35481</td>\n",
       "    </tr>\n",
       "  </tbody>\n",
       "</table>\n",
       "</div>"
      ]
     },
     "execution_count": 6,
     "metadata": {},
     "output_type": "execute_result"
    }
   ],
   "execution_count": 6
  },
  {
   "cell_type": "code",
   "id": "b21379c2",
   "metadata": {
    "ExecuteTime": {
     "end_time": "2025-08-21T00:22:00.304596Z",
     "start_time": "2025-08-21T00:22:00.295335Z"
    }
   },
   "source": [
    "buy_history_df.head()"
   ],
   "outputs": [
    {
     "data": {
      "text/plain": [
       "   order_id  user_id        date  product_id    payment_method  \\\n",
       "0      5000        2  2025-07-06         471  Cash On Delivery   \n",
       "1      5001        2  2025-08-08         196        Debit Card   \n",
       "2      5002        2  2025-07-05         295       Credit Card   \n",
       "3      5003        4  2025-07-17         461            PayPal   \n",
       "4      5004        2  2025-06-21         210        Debit Card   \n",
       "\n",
       "                                  shipping_address return_eligible_date  \\\n",
       "0  97471 Brown Park Suite 053, New Kevin, AR 85256           2025-07-16   \n",
       "1  97471 Brown Park Suite 053, New Kevin, AR 85256           2025-09-07   \n",
       "2  97471 Brown Park Suite 053, New Kevin, AR 85256           2025-07-25   \n",
       "3            1361 Sarah Ford, Denisetown, CT 35481           2025-08-16   \n",
       "4  97471 Brown Park Suite 053, New Kevin, AR 85256           2025-07-21   \n",
       "\n",
       "   quantity  \n",
       "0         3  \n",
       "1         3  \n",
       "2         1  \n",
       "3         2  \n",
       "4         1  "
      ],
      "text/html": [
       "<div>\n",
       "<style scoped>\n",
       "    .dataframe tbody tr th:only-of-type {\n",
       "        vertical-align: middle;\n",
       "    }\n",
       "\n",
       "    .dataframe tbody tr th {\n",
       "        vertical-align: top;\n",
       "    }\n",
       "\n",
       "    .dataframe thead th {\n",
       "        text-align: right;\n",
       "    }\n",
       "</style>\n",
       "<table border=\"1\" class=\"dataframe\">\n",
       "  <thead>\n",
       "    <tr style=\"text-align: right;\">\n",
       "      <th></th>\n",
       "      <th>order_id</th>\n",
       "      <th>user_id</th>\n",
       "      <th>date</th>\n",
       "      <th>product_id</th>\n",
       "      <th>payment_method</th>\n",
       "      <th>shipping_address</th>\n",
       "      <th>return_eligible_date</th>\n",
       "      <th>quantity</th>\n",
       "    </tr>\n",
       "  </thead>\n",
       "  <tbody>\n",
       "    <tr>\n",
       "      <th>0</th>\n",
       "      <td>5000</td>\n",
       "      <td>2</td>\n",
       "      <td>2025-07-06</td>\n",
       "      <td>471</td>\n",
       "      <td>Cash On Delivery</td>\n",
       "      <td>97471 Brown Park Suite 053, New Kevin, AR 85256</td>\n",
       "      <td>2025-07-16</td>\n",
       "      <td>3</td>\n",
       "    </tr>\n",
       "    <tr>\n",
       "      <th>1</th>\n",
       "      <td>5001</td>\n",
       "      <td>2</td>\n",
       "      <td>2025-08-08</td>\n",
       "      <td>196</td>\n",
       "      <td>Debit Card</td>\n",
       "      <td>97471 Brown Park Suite 053, New Kevin, AR 85256</td>\n",
       "      <td>2025-09-07</td>\n",
       "      <td>3</td>\n",
       "    </tr>\n",
       "    <tr>\n",
       "      <th>2</th>\n",
       "      <td>5002</td>\n",
       "      <td>2</td>\n",
       "      <td>2025-07-05</td>\n",
       "      <td>295</td>\n",
       "      <td>Credit Card</td>\n",
       "      <td>97471 Brown Park Suite 053, New Kevin, AR 85256</td>\n",
       "      <td>2025-07-25</td>\n",
       "      <td>1</td>\n",
       "    </tr>\n",
       "    <tr>\n",
       "      <th>3</th>\n",
       "      <td>5003</td>\n",
       "      <td>4</td>\n",
       "      <td>2025-07-17</td>\n",
       "      <td>461</td>\n",
       "      <td>PayPal</td>\n",
       "      <td>1361 Sarah Ford, Denisetown, CT 35481</td>\n",
       "      <td>2025-08-16</td>\n",
       "      <td>2</td>\n",
       "    </tr>\n",
       "    <tr>\n",
       "      <th>4</th>\n",
       "      <td>5004</td>\n",
       "      <td>2</td>\n",
       "      <td>2025-06-21</td>\n",
       "      <td>210</td>\n",
       "      <td>Debit Card</td>\n",
       "      <td>97471 Brown Park Suite 053, New Kevin, AR 85256</td>\n",
       "      <td>2025-07-21</td>\n",
       "      <td>1</td>\n",
       "    </tr>\n",
       "  </tbody>\n",
       "</table>\n",
       "</div>"
      ]
     },
     "execution_count": 7,
     "metadata": {},
     "output_type": "execute_result"
    }
   ],
   "execution_count": 7
  },
  {
   "cell_type": "code",
   "id": "4b809243",
   "metadata": {
    "ExecuteTime": {
     "end_time": "2025-08-21T00:22:00.813136Z",
     "start_time": "2025-08-21T00:22:00.807756Z"
    }
   },
   "source": [
    "category_df"
   ],
   "outputs": [
    {
     "data": {
      "text/plain": [
       "   category_id category_name\n",
       "0            1   Electronics\n",
       "1            2      Utensils\n",
       "2            3         Books\n",
       "3            4        Sports"
      ],
      "text/html": [
       "<div>\n",
       "<style scoped>\n",
       "    .dataframe tbody tr th:only-of-type {\n",
       "        vertical-align: middle;\n",
       "    }\n",
       "\n",
       "    .dataframe tbody tr th {\n",
       "        vertical-align: top;\n",
       "    }\n",
       "\n",
       "    .dataframe thead th {\n",
       "        text-align: right;\n",
       "    }\n",
       "</style>\n",
       "<table border=\"1\" class=\"dataframe\">\n",
       "  <thead>\n",
       "    <tr style=\"text-align: right;\">\n",
       "      <th></th>\n",
       "      <th>category_id</th>\n",
       "      <th>category_name</th>\n",
       "    </tr>\n",
       "  </thead>\n",
       "  <tbody>\n",
       "    <tr>\n",
       "      <th>0</th>\n",
       "      <td>1</td>\n",
       "      <td>Electronics</td>\n",
       "    </tr>\n",
       "    <tr>\n",
       "      <th>1</th>\n",
       "      <td>2</td>\n",
       "      <td>Utensils</td>\n",
       "    </tr>\n",
       "    <tr>\n",
       "      <th>2</th>\n",
       "      <td>3</td>\n",
       "      <td>Books</td>\n",
       "    </tr>\n",
       "    <tr>\n",
       "      <th>3</th>\n",
       "      <td>4</td>\n",
       "      <td>Sports</td>\n",
       "    </tr>\n",
       "  </tbody>\n",
       "</table>\n",
       "</div>"
      ]
     },
     "execution_count": 8,
     "metadata": {},
     "output_type": "execute_result"
    }
   ],
   "execution_count": 8
  },
  {
   "cell_type": "code",
   "id": "89924684",
   "metadata": {
    "ExecuteTime": {
     "end_time": "2025-08-21T00:22:01.066882Z",
     "start_time": "2025-08-21T00:22:01.054346Z"
    }
   },
   "source": [
    "product_df.head()"
   ],
   "outputs": [
    {
     "data": {
      "text/plain": [
       "   product_id  category_id            product_name             items_included  \\\n",
       "0         100            1       Focus Electronics         Fire practice own.   \n",
       "1         101            1    Approach Electronics          Step small mouth.   \n",
       "2         102            1    Discover Electronics    Food full success talk.   \n",
       "3         103            1  Understand Electronics       Thought stage seven.   \n",
       "4         104            1        Page Electronics  Really well catch others.   \n",
       "\n",
       "    price                                product_description  return_window  \n",
       "0  679.89  Speak system production brother education need...             10  \n",
       "1  564.49  Teach catch why tax training do draw order aud...             15  \n",
       "2   25.08  Natural remember service answer often level la...             30  \n",
       "3  403.42                     Window number bit decade week.             20  \n",
       "4  856.95  Interesting dinner everything face radio model...             20  "
      ],
      "text/html": [
       "<div>\n",
       "<style scoped>\n",
       "    .dataframe tbody tr th:only-of-type {\n",
       "        vertical-align: middle;\n",
       "    }\n",
       "\n",
       "    .dataframe tbody tr th {\n",
       "        vertical-align: top;\n",
       "    }\n",
       "\n",
       "    .dataframe thead th {\n",
       "        text-align: right;\n",
       "    }\n",
       "</style>\n",
       "<table border=\"1\" class=\"dataframe\">\n",
       "  <thead>\n",
       "    <tr style=\"text-align: right;\">\n",
       "      <th></th>\n",
       "      <th>product_id</th>\n",
       "      <th>category_id</th>\n",
       "      <th>product_name</th>\n",
       "      <th>items_included</th>\n",
       "      <th>price</th>\n",
       "      <th>product_description</th>\n",
       "      <th>return_window</th>\n",
       "    </tr>\n",
       "  </thead>\n",
       "  <tbody>\n",
       "    <tr>\n",
       "      <th>0</th>\n",
       "      <td>100</td>\n",
       "      <td>1</td>\n",
       "      <td>Focus Electronics</td>\n",
       "      <td>Fire practice own.</td>\n",
       "      <td>679.89</td>\n",
       "      <td>Speak system production brother education need...</td>\n",
       "      <td>10</td>\n",
       "    </tr>\n",
       "    <tr>\n",
       "      <th>1</th>\n",
       "      <td>101</td>\n",
       "      <td>1</td>\n",
       "      <td>Approach Electronics</td>\n",
       "      <td>Step small mouth.</td>\n",
       "      <td>564.49</td>\n",
       "      <td>Teach catch why tax training do draw order aud...</td>\n",
       "      <td>15</td>\n",
       "    </tr>\n",
       "    <tr>\n",
       "      <th>2</th>\n",
       "      <td>102</td>\n",
       "      <td>1</td>\n",
       "      <td>Discover Electronics</td>\n",
       "      <td>Food full success talk.</td>\n",
       "      <td>25.08</td>\n",
       "      <td>Natural remember service answer often level la...</td>\n",
       "      <td>30</td>\n",
       "    </tr>\n",
       "    <tr>\n",
       "      <th>3</th>\n",
       "      <td>103</td>\n",
       "      <td>1</td>\n",
       "      <td>Understand Electronics</td>\n",
       "      <td>Thought stage seven.</td>\n",
       "      <td>403.42</td>\n",
       "      <td>Window number bit decade week.</td>\n",
       "      <td>20</td>\n",
       "    </tr>\n",
       "    <tr>\n",
       "      <th>4</th>\n",
       "      <td>104</td>\n",
       "      <td>1</td>\n",
       "      <td>Page Electronics</td>\n",
       "      <td>Really well catch others.</td>\n",
       "      <td>856.95</td>\n",
       "      <td>Interesting dinner everything face radio model...</td>\n",
       "      <td>20</td>\n",
       "    </tr>\n",
       "  </tbody>\n",
       "</table>\n",
       "</div>"
      ]
     },
     "execution_count": 9,
     "metadata": {},
     "output_type": "execute_result"
    }
   ],
   "execution_count": 9
  },
  {
   "cell_type": "code",
   "id": "9eacc164",
   "metadata": {
    "ExecuteTime": {
     "end_time": "2025-08-20T15:28:08.664960Z",
     "start_time": "2025-08-20T15:28:08.658837Z"
    }
   },
   "source": [
    "specification_df.head()"
   ],
   "outputs": [
    {
     "data": {
      "text/plain": [
       "   spec_id  product_id spec_name spec_value\n",
       "0        1         100      Hair        The\n",
       "1        2         100       Lay       None\n",
       "2        3         101       Red       Fire\n",
       "3        4         101      Cold      Music\n",
       "4        5         101      Last       Good"
      ],
      "text/html": [
       "<div>\n",
       "<style scoped>\n",
       "    .dataframe tbody tr th:only-of-type {\n",
       "        vertical-align: middle;\n",
       "    }\n",
       "\n",
       "    .dataframe tbody tr th {\n",
       "        vertical-align: top;\n",
       "    }\n",
       "\n",
       "    .dataframe thead th {\n",
       "        text-align: right;\n",
       "    }\n",
       "</style>\n",
       "<table border=\"1\" class=\"dataframe\">\n",
       "  <thead>\n",
       "    <tr style=\"text-align: right;\">\n",
       "      <th></th>\n",
       "      <th>spec_id</th>\n",
       "      <th>product_id</th>\n",
       "      <th>spec_name</th>\n",
       "      <th>spec_value</th>\n",
       "    </tr>\n",
       "  </thead>\n",
       "  <tbody>\n",
       "    <tr>\n",
       "      <th>0</th>\n",
       "      <td>1</td>\n",
       "      <td>100</td>\n",
       "      <td>Hair</td>\n",
       "      <td>The</td>\n",
       "    </tr>\n",
       "    <tr>\n",
       "      <th>1</th>\n",
       "      <td>2</td>\n",
       "      <td>100</td>\n",
       "      <td>Lay</td>\n",
       "      <td>None</td>\n",
       "    </tr>\n",
       "    <tr>\n",
       "      <th>2</th>\n",
       "      <td>3</td>\n",
       "      <td>101</td>\n",
       "      <td>Red</td>\n",
       "      <td>Fire</td>\n",
       "    </tr>\n",
       "    <tr>\n",
       "      <th>3</th>\n",
       "      <td>4</td>\n",
       "      <td>101</td>\n",
       "      <td>Cold</td>\n",
       "      <td>Music</td>\n",
       "    </tr>\n",
       "    <tr>\n",
       "      <th>4</th>\n",
       "      <td>5</td>\n",
       "      <td>101</td>\n",
       "      <td>Last</td>\n",
       "      <td>Good</td>\n",
       "    </tr>\n",
       "  </tbody>\n",
       "</table>\n",
       "</div>"
      ]
     },
     "execution_count": 9,
     "metadata": {},
     "output_type": "execute_result"
    }
   ],
   "execution_count": 9
  },
  {
   "cell_type": "code",
   "id": "cf0b9e29",
   "metadata": {
    "ExecuteTime": {
     "end_time": "2025-08-20T15:28:08.797168Z",
     "start_time": "2025-08-20T15:28:08.790271Z"
    }
   },
   "source": [
    "return_df.head()"
   ],
   "outputs": [
    {
     "data": {
      "text/plain": [
       "   return_id  buy_order_id return_request_date     return_reason return_status\n",
       "0       9000          5716          2025-06-05        Wrong size      Rejected\n",
       "1       9001          5208          2025-06-20  Not as described      Approved\n",
       "2       9002          5335          2025-08-17  Not as described       Pending\n",
       "3       9003          5570          2025-05-29    Defective item       Pending\n",
       "4       9004          5219          2025-07-06        Wrong size       Pending"
      ],
      "text/html": [
       "<div>\n",
       "<style scoped>\n",
       "    .dataframe tbody tr th:only-of-type {\n",
       "        vertical-align: middle;\n",
       "    }\n",
       "\n",
       "    .dataframe tbody tr th {\n",
       "        vertical-align: top;\n",
       "    }\n",
       "\n",
       "    .dataframe thead th {\n",
       "        text-align: right;\n",
       "    }\n",
       "</style>\n",
       "<table border=\"1\" class=\"dataframe\">\n",
       "  <thead>\n",
       "    <tr style=\"text-align: right;\">\n",
       "      <th></th>\n",
       "      <th>return_id</th>\n",
       "      <th>buy_order_id</th>\n",
       "      <th>return_request_date</th>\n",
       "      <th>return_reason</th>\n",
       "      <th>return_status</th>\n",
       "    </tr>\n",
       "  </thead>\n",
       "  <tbody>\n",
       "    <tr>\n",
       "      <th>0</th>\n",
       "      <td>9000</td>\n",
       "      <td>5716</td>\n",
       "      <td>2025-06-05</td>\n",
       "      <td>Wrong size</td>\n",
       "      <td>Rejected</td>\n",
       "    </tr>\n",
       "    <tr>\n",
       "      <th>1</th>\n",
       "      <td>9001</td>\n",
       "      <td>5208</td>\n",
       "      <td>2025-06-20</td>\n",
       "      <td>Not as described</td>\n",
       "      <td>Approved</td>\n",
       "    </tr>\n",
       "    <tr>\n",
       "      <th>2</th>\n",
       "      <td>9002</td>\n",
       "      <td>5335</td>\n",
       "      <td>2025-08-17</td>\n",
       "      <td>Not as described</td>\n",
       "      <td>Pending</td>\n",
       "    </tr>\n",
       "    <tr>\n",
       "      <th>3</th>\n",
       "      <td>9003</td>\n",
       "      <td>5570</td>\n",
       "      <td>2025-05-29</td>\n",
       "      <td>Defective item</td>\n",
       "      <td>Pending</td>\n",
       "    </tr>\n",
       "    <tr>\n",
       "      <th>4</th>\n",
       "      <td>9004</td>\n",
       "      <td>5219</td>\n",
       "      <td>2025-07-06</td>\n",
       "      <td>Wrong size</td>\n",
       "      <td>Pending</td>\n",
       "    </tr>\n",
       "  </tbody>\n",
       "</table>\n",
       "</div>"
      ]
     },
     "execution_count": 10,
     "metadata": {},
     "output_type": "execute_result"
    }
   ],
   "execution_count": 10
  },
  {
   "cell_type": "code",
   "id": "d96d6e9c",
   "metadata": {
    "ExecuteTime": {
     "end_time": "2025-08-20T14:46:34.211608Z",
     "start_time": "2025-08-20T14:46:34.207701Z"
    }
   },
   "source": [
    "# # LEFT JOIN (all rows from buy_history, matching from product)\n",
    "# left_join = pd.merge(buy_history, product, on=\"product_id\", how=\"left\")\n",
    "\n",
    "# # INNER JOIN (only rows with matching product_id in both tables)\n",
    "# inner_join = pd.merge(buy_history, product, on=\"product_id\", how=\"inner\")"
   ],
   "outputs": [],
   "execution_count": 12
  },
  {
   "metadata": {
    "ExecuteTime": {
     "end_time": "2025-08-20T15:29:29.946621Z",
     "start_time": "2025-08-20T15:29:29.929010Z"
    }
   },
   "cell_type": "code",
   "source": [
    "user_df.to_csv(r\"..\\DB\\user.csv\")\n",
    "buy_history_df.to_csv(r\"..\\DB\\buy_history.csv\")\n",
    "category_df.to_csv(r\"..\\DB\\category.csv\")\n",
    "product_df.to_csv(r\"..\\DB\\product.csv\")\n",
    "specification_df.to_csv(r\"..\\DB\\specification.csv\")\n",
    "return_df.to_csv(r\"..\\DB\\return.csv\")"
   ],
   "id": "aa3a81798ef713c3",
   "outputs": [],
   "execution_count": 11
  },
  {
   "metadata": {},
   "cell_type": "code",
   "outputs": [],
   "execution_count": null,
   "source": "",
   "id": "6e10e8f97d43ba36"
  }
 ],
 "metadata": {
  "kernelspec": {
   "display_name": "Python 3 (ipykernel)",
   "language": "python",
   "name": "python3"
  },
  "language_info": {
   "codemirror_mode": {
    "name": "ipython",
    "version": 3
   },
   "file_extension": ".py",
   "mimetype": "text/x-python",
   "name": "python",
   "nbconvert_exporter": "python",
   "pygments_lexer": "ipython3",
   "version": "3.11.9"
  }
 },
 "nbformat": 4,
 "nbformat_minor": 5
}
