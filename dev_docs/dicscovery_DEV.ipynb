{
 "cells": [
  {
   "cell_type": "code",
   "id": "initial_id",
   "metadata": {
    "collapsed": true,
    "ExecuteTime": {
     "end_time": "2025-09-05T12:31:41.197704Z",
     "start_time": "2025-09-05T12:31:39.868821Z"
    }
   },
   "source": [
    "from core.llm_client import LLMClient\n",
    "import os\n",
    "\n",
    "# model_type = os.getenv(\"MODEL_TYPE\", \"openai\")\n",
    "model_type = os.getenv(\"\", \"gemini\")\n",
    "llm_client = LLMClient(model_type=model_type)\n",
    "\n",
    "model_type"
   ],
   "outputs": [
    {
     "data": {
      "text/plain": [
       "'gemini'"
      ]
     },
     "execution_count": 38,
     "metadata": {},
     "output_type": "execute_result"
    }
   ],
   "execution_count": 38
  },
  {
   "metadata": {
    "ExecuteTime": {
     "end_time": "2025-09-05T12:31:43.707560Z",
     "start_time": "2025-09-05T12:31:43.703665Z"
    }
   },
   "cell_type": "code",
   "source": [
    "from prompts.discovery import SYSTEM_PROMPT\n",
    "from tools.registry import ToolRegistry\n",
    "from utility import load_json\n",
    "\n",
    "registry_json = load_json(os.path.join(\"tools\", \"registry.json\"))"
   ],
   "id": "dedab6229e21b3b0",
   "outputs": [],
   "execution_count": 39
  },
  {
   "metadata": {
    "ExecuteTime": {
     "end_time": "2025-09-05T12:32:48.648377Z",
     "start_time": "2025-09-05T12:32:45.157999Z"
    }
   },
   "cell_type": "code",
   "source": [
    "user_prompt_1 = str({\n",
    "    \"id\": 1,\n",
    "    \"type\": \"straightforward\",\n",
    "    \"conversation_context\": [\n",
    "      {\"role\": \"user\", \"content\": \"Show me Apple laptops under $1200 with at least 16GB RAM\"}\n",
    "    ],\n",
    "    \"current_query\": \"Show me Apple laptops under $1200 with at least 16GB RAM\",\n",
    "    \"slots_till_now\": {},\n",
    "    \"fsm_state\": \"COLLECTING\",\n",
    "    \"available_tools\": registry_json,\n",
    "    \"spec_keys\": {\"brand\":\"Apple\",\"ram_gb\":\"8\",\"storage_gb\":\"256\",\"screen_size_inches\":\"13\"}\n",
    "  })\n",
    "\n",
    "response = await llm_client.generate(SYSTEM_PROMPT, user_prompt_1)\n",
    "print(response)"
   ],
   "id": "13a051e0bbd430b4",
   "outputs": [
    {
     "name": "stdout",
     "output_type": "stream",
     "text": [
      "```json\n",
      "{\n",
      "  \"response\": \"I can find Apple laptops under $1200 with at least 16GB RAM.\",\n",
      "  \"updated_slots\": {\n",
      "    \"category\": \"electronics\",\n",
      "    \"subcategory\": \"laptop\",\n",
      "    \"brand\": \"Apple\",\n",
      "    \"budget\": 1200,\n",
      "    \"ram_gb\": 16\n",
      "  },\n",
      "  \"constraints\": [\n",
      "    {\n",
      "      \"key\": \"brand\",\n",
      "      \"op\": \"==\",\n",
      "      \"value\": \"Apple\",\n",
      "      \"dtype\": \"enum\",\n",
      "      \"source\": \"current_query\"\n",
      "    },\n",
      "    {\n",
      "      \"key\": \"price\",\n",
      "      \"op\": \"<=\",\n",
      "      \"value\": 1200,\n",
      "      \"dtype\": \"float\",\n",
      "      \"source\": \"current_query\"\n",
      "    },\n",
      "    {\n",
      "      \"key\": \"ram_gb\",\n",
      "      \"op\": \">=\",\n",
      "      \"value\": 16,\n",
      "      \"dtype\": \"int\",\n",
      "      \"source\": \"current_query\"\n",
      "    }\n",
      "  ],\n",
      "  \"chosen_tool\": {\n",
      "    \"name\": \"filter_products\",\n",
      "    \"params\": {\n",
      "      \"mandatory\": {\n",
      "        \"subcategory\": \"laptop\",\n",
      "        \"category\": \"electronics\"\n",
      "      },\n",
      "      \"optional\": {\n",
      "        \"brand\": \"Apple\",\n",
      "        \"price_range\": [\n",
      "          0,\n",
      "          1200\n",
      "        ],\n",
      "        \"specifications\": [\n",
      "          {\n",
      "            \"key\": \"ram_gb\",\n",
      "            \"op\": \">=\",\n",
      "            \"value\": 16\n",
      "          }\n",
      "        ]\n",
      "      }\n",
      "    }\n",
      "  },\n",
      "  \"tool_needed\": null,\n",
      "  \"clarification_question\": null,\n",
      "  \"one_shot_optional_prompt\": null,\n",
      "  \"suggested_footnotes\": [\n",
      "    \"Top by reviews\",\n",
      "    \"Low return rate\",\n",
      "    \"Short review summary\"\n",
      "  ]\n",
      "}\n",
      "```\n"
     ]
    }
   ],
   "execution_count": 42
  },
  {
   "metadata": {
    "ExecuteTime": {
     "end_time": "2025-09-05T12:28:16.601023Z",
     "start_time": "2025-09-05T12:28:16.597892Z"
    }
   },
   "cell_type": "code",
   "source": "",
   "id": "22efacc7ec184afd",
   "outputs": [],
   "execution_count": null
  },
  {
   "metadata": {
    "ExecuteTime": {
     "end_time": "2025-09-05T12:42:46.128150Z",
     "start_time": "2025-09-05T12:42:43.171918Z"
    }
   },
   "cell_type": "code",
   "source": [
    "user_prompt_2 = str({\n",
    "    \"id\": 2,\n",
    "    \"type\": \"straightforward\",\n",
    "    \"conversation_context\": [\n",
    "      {\"role\": \"user\", \"content\": \"I want a treadmill between $300 and $700 with a 3-year warranty\"}\n",
    "    ],\n",
    "    \"current_query\": \"I want a treadmill between $300 and $700 with a 3-year warranty\",\n",
    "    \"slots_till_now\": {},\n",
    "    \"fsm_state\": \"COLLECTING\",\n",
    "    \"available_tools\": registry_json,\n",
    "    \"spec_keys\": {\"warranty_years\":\"3\",\"subcategory\":\"treadmill\",\"price\":\"float\"}\n",
    "  })\n",
    "\n",
    "response = await llm_client.generate(SYSTEM_PROMPT, user_prompt_2)\n",
    "print(response)"
   ],
   "id": "b2156eeb5e0310e4",
   "outputs": [
    {
     "name": "stdout",
     "output_type": "stream",
     "text": [
      "```json\n",
      "{\n",
      "  \"response\": \"Okay, I can look for treadmills between $300 and $700. I don't have a way to filter by warranty. Shall I search now?\",\n",
      "  \"updated_slots\": {\n",
      "    \"category\": \"sports\",\n",
      "    \"subcategory\": \"treadmill\",\n",
      "    \"budget\": [\n",
      "      300.0,\n",
      "      700.0\n",
      "    ]\n",
      "  },\n",
      "  \"constraints\": [\n",
      "    {\n",
      "      \"key\": \"price\",\n",
      "      \"op\": \"BETWEEN\",\n",
      "      \"value\": [\n",
      "        300.0,\n",
      "        700.0\n",
      "      ],\n",
      "      \"dtype\": \"float\",\n",
      "      \"source\": \"current_query\"\n",
      "    }\n",
      "  ],\n",
      "  \"chosen_tool\": {\n",
      "    \"name\": \"filter_products\",\n",
      "    \"params\": {\n",
      "      \"mandatory\": {\n",
      "        \"subcategory\": \"treadmill\",\n",
      "        \"category\": \"sports\"\n",
      "      },\n",
      "      \"optional\": {\n",
      "        \"price_range\": [\n",
      "          300.0,\n",
      "          700.0\n",
      "        ]\n",
      "      }\n",
      "    }\n",
      "  },\n",
      "  \"tool_needed\": null,\n",
      "  \"clarification_question\": null,\n",
      "  \"one_shot_optional_prompt\": null,\n",
      "  \"suggested_footnotes\": [\n",
      "    \"Top by reviews\",\n",
      "    \"Low return rate\",\n",
      "    \"Short review summary\"\n",
      "  ]\n",
      "}\n",
      "```\n"
     ]
    }
   ],
   "execution_count": 57
  },
  {
   "metadata": {
    "ExecuteTime": {
     "end_time": "2025-09-05T12:32:58.266094Z",
     "start_time": "2025-09-05T12:32:58.263498Z"
    }
   },
   "cell_type": "code",
   "source": "",
   "id": "bd8d6a12feb47874",
   "outputs": [],
   "execution_count": null
  },
  {
   "metadata": {
    "ExecuteTime": {
     "end_time": "2025-09-05T12:42:53.973815Z",
     "start_time": "2025-09-05T12:42:51.857912Z"
    }
   },
   "cell_type": "code",
   "source": [
    "user_prompt_3 = str({\n",
    "    \"id\": 3,\n",
    "    \"type\": \"missing_optional\",\n",
    "    \"conversation_context\": [\n",
    "      {\"role\": \"user\", \"content\": \"Show me laptops\"}\n",
    "    ],\n",
    "    \"current_query\": \"Show me laptops\",\n",
    "    \"slots_till_now\": {},\n",
    "    \"fsm_state\": \"COLLECTING\",\n",
    "    \"available_tools\": registry_json,\n",
    "    \"spec_keys\": {\"brand\":\"Dell\",\"ram_gb\":\"8\",\"price\":\"float\"}\n",
    "  })\n",
    "\n",
    "response = await llm_client.generate(SYSTEM_PROMPT, user_prompt_3)\n",
    "print(response)"
   ],
   "id": "fb9956cd5e3dfdc6",
   "outputs": [
    {
     "name": "stdout",
     "output_type": "stream",
     "text": [
      "```json\n",
      "{\n",
      "  \"response\": \"I can show you laptops. Do you have a preferred brand or budget in mind?\",\n",
      "  \"updated_slots\": {\n",
      "    \"category\": \"electronics\",\n",
      "    \"subcategory\": \"laptop\"\n",
      "  },\n",
      "  \"constraints\": [],\n",
      "  \"chosen_tool\": {\n",
      "    \"name\": \"filter_products\",\n",
      "    \"params\": {\n",
      "      \"mandatory\": {\n",
      "        \"subcategory\": \"laptop\",\n",
      "        \"category\": \"electronics\"\n",
      "      },\n",
      "      \"optional\": {}\n",
      "    }\n",
      "  },\n",
      "  \"tool_needed\": null,\n",
      "  \"clarification_question\": null,\n",
      "  \"one_shot_optional_prompt\": \"Do you have a preferred brand or budget?\",\n",
      "  \"suggested_footnotes\": [\n",
      "    \"Top by reviews\",\n",
      "    \"Low return rate\",\n",
      "    \"Short review summary\"\n",
      "  ]\n",
      "}\n",
      "```\n"
     ]
    }
   ],
   "execution_count": 58
  },
  {
   "metadata": {
    "ExecuteTime": {
     "end_time": "2025-09-05T12:33:25.181553Z",
     "start_time": "2025-09-05T12:33:25.178777Z"
    }
   },
   "cell_type": "code",
   "source": "",
   "id": "ffa1c3b2bd3f6ec6",
   "outputs": [],
   "execution_count": null
  },
  {
   "metadata": {
    "ExecuteTime": {
     "end_time": "2025-09-05T12:33:57.668682Z",
     "start_time": "2025-09-05T12:33:55.564477Z"
    }
   },
   "cell_type": "code",
   "source": [
    "user_prompt_4 = str({\n",
    "    \"id\": 4,\n",
    "    \"type\": \"missing_optional\",\n",
    "    \"conversation_context\": [\n",
    "      {\"role\": \"user\", \"content\": \"I want headphones\"}\n",
    "    ],\n",
    "    \"current_query\": \"I want headphones\",\n",
    "    \"slots_till_now\": {},\n",
    "    \"fsm_state\": \"COLLECTING\",\n",
    "    \"available_tools\": [\"filter_products\",\"list_specifications\"],\n",
    "    \"spec_keys\": {\"wireless\":\"bool\",\"price\":\"float\",\"brand\":\"Sony\"}\n",
    "  })\n",
    "\n",
    "response = await llm_client.generate(SYSTEM_PROMPT, user_prompt_4)\n",
    "print(response)"
   ],
   "id": "b297ed0a7f4959ef",
   "outputs": [
    {
     "name": "stdout",
     "output_type": "stream",
     "text": [
      "```json\n",
      "{\n",
      "  \"response\": \"Okay, I can help you find headphones. Do you have a preferred brand or budget?\",\n",
      "  \"updated_slots\": {\n",
      "    \"category\": \"electronics\",\n",
      "    \"subcategory\": \"headphones\"\n",
      "  },\n",
      "  \"constraints\": [],\n",
      "  \"chosen_tool\": {\n",
      "    \"name\": \"filter_products\",\n",
      "    \"params\": {\n",
      "      \"mandatory\": {\n",
      "        \"subcategory\": \"headphones\",\n",
      "        \"category\": \"electronics\"\n",
      "      },\n",
      "      \"optional\": {}\n",
      "    }\n",
      "  },\n",
      "  \"tool_needed\": null,\n",
      "  \"clarification_question\": null,\n",
      "  \"one_shot_optional_prompt\": \"Do you have a preferred brand or budget?\",\n",
      "  \"suggested_footnotes\": [\n",
      "    \"Top by reviews\",\n",
      "    \"Low return rate\",\n",
      "    \"Short review summary\"\n",
      "  ]\n",
      "}\n",
      "```\n"
     ]
    }
   ],
   "execution_count": 45
  },
  {
   "metadata": {
    "ExecuteTime": {
     "end_time": "2025-09-05T12:33:57.691381Z",
     "start_time": "2025-09-05T12:33:57.689517Z"
    }
   },
   "cell_type": "code",
   "source": "",
   "id": "327ba82502d68d7d",
   "outputs": [],
   "execution_count": null
  },
  {
   "metadata": {
    "ExecuteTime": {
     "end_time": "2025-09-05T12:34:22.305537Z",
     "start_time": "2025-09-05T12:34:20.599831Z"
    }
   },
   "cell_type": "code",
   "source": [
    "user_prompt_5 = str({\n",
    "    \"id\": 5,\n",
    "    \"type\": \"ambiguity\",\n",
    "    \"conversation_context\": [\n",
    "      {\"role\": \"user\", \"content\": \"What are the best mobiles?\"}\n",
    "    ],\n",
    "    \"current_query\": \"What are the best mobiles?\",\n",
    "    \"slots_till_now\": {},\n",
    "    \"fsm_state\": \"COLLECTING\",\n",
    "    \"available_tools\": [\"rank_products_by_reviews\",\"rank_products_by_review_count\",\"filter_products\"],\n",
    "    \"spec_keys\": {\"brand\":\"Samsung\",\"ram_gb\":\"8\",\"price\":\"float\"}\n",
    "  })\n",
    "\n",
    "response = await llm_client.generate(SYSTEM_PROMPT, user_prompt_5)\n",
    "print(response)"
   ],
   "id": "9cb7da882f7ba02c",
   "outputs": [
    {
     "name": "stdout",
     "output_type": "stream",
     "text": [
      "```json\n",
      "{\n",
      "  \"response\": \"When you say 'best', do you mean the mobiles with the highest average rating or the most reviews?\",\n",
      "  \"updated_slots\": {\n",
      "    \"category\": \"electronics\",\n",
      "    \"subcategory\": \"mobile\"\n",
      "  },\n",
      "  \"constraints\": [],\n",
      "  \"chosen_tool\": null,\n",
      "  \"tool_needed\": \"rank_products_by_reviews\",\n",
      "  \"clarification_question\": \"Do you want to rank by average rating or by review count?\",\n",
      "  \"one_shot_optional_prompt\": null,\n",
      "  \"suggested_footnotes\": [\n",
      "    \"Top by reviews\",\n",
      "    \"Low return rate\",\n",
      "    \"Short review summary\"\n",
      "  ]\n",
      "}\n",
      "```\n"
     ]
    }
   ],
   "execution_count": 46
  },
  {
   "metadata": {
    "ExecuteTime": {
     "end_time": "2025-09-05T12:34:22.333836Z",
     "start_time": "2025-09-05T12:34:22.331815Z"
    }
   },
   "cell_type": "code",
   "source": "",
   "id": "f0f5243a1914fe5d",
   "outputs": [],
   "execution_count": null
  },
  {
   "metadata": {
    "ExecuteTime": {
     "end_time": "2025-09-05T12:34:55.196632Z",
     "start_time": "2025-09-05T12:34:52.949964Z"
    }
   },
   "cell_type": "code",
   "source": [
    "user_prompt_6 = str({\n",
    "    \"id\": 6,\n",
    "    \"type\": \"ambiguity\",\n",
    "    \"conversation_context\": [\n",
    "      {\"role\": \"user\", \"content\": \"Which headphones are most popular?\"}\n",
    "    ],\n",
    "    \"current_query\": \"Which headphones are most popular?\",\n",
    "    \"slots_till_now\": {},\n",
    "    \"fsm_state\": \"COLLECTING\",\n",
    "    \"available_tools\": [\"rank_products_by_review_count\",\"product_cooccurrence_analysis\"],\n",
    "    \"spec_keys\": {\"brand\":\"Bose\",\"wireless\":\"bool\"}\n",
    "  })\n",
    "\n",
    "response = await llm_client.generate(SYSTEM_PROMPT, user_prompt_6)\n",
    "print(response)"
   ],
   "id": "6b0d4c9d14e65474",
   "outputs": [
    {
     "name": "stdout",
     "output_type": "stream",
     "text": [
      "```json\n",
      "{\n",
      "  \"response\": \"When you say 'most popular', do you mean headphones with the highest average rating or the most reviewed headphones?\",\n",
      "  \"updated_slots\": {\n",
      "    \"category\": \"electronics\",\n",
      "    \"subcategory\": \"headphones\"\n",
      "  },\n",
      "  \"constraints\": [],\n",
      "  \"chosen_tool\": null,\n",
      "  \"tool_needed\": \"rank_products_by_review_count\",\n",
      "  \"clarification_question\": \"Do you want to rank by average rating or by review count?\",\n",
      "  \"one_shot_optional_prompt\": null,\n",
      "  \"suggested_footnotes\": [\n",
      "    \"Top by reviews\",\n",
      "    \"Low return rate\",\n",
      "    \"Short review summary\"\n",
      "  ]\n",
      "}\n",
      "```\n"
     ]
    }
   ],
   "execution_count": 47
  },
  {
   "metadata": {
    "ExecuteTime": {
     "end_time": "2025-09-05T12:34:55.220302Z",
     "start_time": "2025-09-05T12:34:55.217188Z"
    }
   },
   "cell_type": "code",
   "source": "",
   "id": "c437229eaf291546",
   "outputs": [],
   "execution_count": null
  },
  {
   "metadata": {
    "ExecuteTime": {
     "end_time": "2025-09-05T12:35:25.348911Z",
     "start_time": "2025-09-05T12:35:23.474208Z"
    }
   },
   "cell_type": "code",
   "source": [
    "user_prompt_7 = str({\n",
    "    \"id\": 7,\n",
    "    \"type\": \"context_switch\",\n",
    "    \"conversation_context\": [\n",
    "      {\"role\": \"user\", \"content\": \"Show me Dell laptops under $1000\"},\n",
    "      {\"role\": \"assistant\", \"content\": \"Do you want any specific RAM or screen size?\"},\n",
    "      {\"role\": \"user\", \"content\": \"Actually, show me mobiles\"}\n",
    "    ],\n",
    "    \"current_query\": \"Actually, show me mobiles\",\n",
    "    \"slots_till_now\": {\"subcategory\":\"laptop\",\"brand\":\"Dell\",\"budget\":1000},\n",
    "    \"fsm_state\": \"COLLECTING\",\n",
    "    \"available_tools\": [\"filter_products\",\"list_brands\"],\n",
    "    \"spec_keys\": {\"brand\":\"Samsung\",\"battery_hours\":\"10\",\"price\":\"float\"}\n",
    "  })\n",
    "\n",
    "response = await llm_client.generate(SYSTEM_PROMPT, user_prompt_7)\n",
    "print(response)"
   ],
   "id": "f8d2d90cdbe30072",
   "outputs": [
    {
     "name": "stdout",
     "output_type": "stream",
     "text": [
      "```json\n",
      "{\n",
      "  \"response\": \"Got it, switching to mobiles. Do you want to filter by brand or budget?\",\n",
      "  \"updated_slots\": {\n",
      "    \"category\": \"electronics\",\n",
      "    \"subcategory\": \"mobile\"\n",
      "  },\n",
      "  \"constraints\": [],\n",
      "  \"chosen_tool\": {\n",
      "    \"name\": \"filter_products\",\n",
      "    \"params\": {\n",
      "      \"mandatory\": {\n",
      "        \"subcategory\": \"mobile\",\n",
      "        \"category\": \"electronics\"\n",
      "      },\n",
      "      \"optional\": {}\n",
      "    }\n",
      "  },\n",
      "  \"tool_needed\": null,\n",
      "  \"clarification_question\": null,\n",
      "  \"one_shot_optional_prompt\": \"Do you want to specify a brand or budget?\",\n",
      "  \"suggested_footnotes\": [\n",
      "    \"Top by reviews\",\n",
      "    \"Low return rate\",\n",
      "    \"Short review summary\"\n",
      "  ]\n",
      "}\n",
      "```\n"
     ]
    }
   ],
   "execution_count": 48
  },
  {
   "metadata": {
    "ExecuteTime": {
     "end_time": "2025-09-05T12:35:25.358613Z",
     "start_time": "2025-09-05T12:35:25.356388Z"
    }
   },
   "cell_type": "code",
   "source": "",
   "id": "33b52e1af2fe0381",
   "outputs": [],
   "execution_count": null
  },
  {
   "metadata": {
    "ExecuteTime": {
     "end_time": "2025-09-05T12:35:52.330763Z",
     "start_time": "2025-09-05T12:35:50.153417Z"
    }
   },
   "cell_type": "code",
   "source": [
    "user_prompt_8 = str({\n",
    "    \"id\": 8,\n",
    "    \"type\": \"context_switch\",\n",
    "    \"conversation_context\": [\n",
    "      {\"role\": \"user\", \"content\": \"I'm looking for a cricket bat\"},\n",
    "      {\"role\": \"assistant\", \"content\": \"What weight do you prefer?\"},\n",
    "      {\"role\": \"user\", \"content\": \"Instead, show me a treadmill\"}\n",
    "    ],\n",
    "    \"current_query\": \"Instead, show me a treadmill\",\n",
    "    \"slots_till_now\": {\"subcategory\":\"cricket_bat\"},\n",
    "    \"fsm_state\": \"COLLECTING\",\n",
    "    \"available_tools\": [\"filter_products\",\"list_specifications\"],\n",
    "    \"spec_keys\": {\"subcategory\":\"treadmill\",\"max_speed_kph\":\"float\",\"price\":\"float\"}\n",
    "  })\n",
    "\n",
    "response = await llm_client.generate(SYSTEM_PROMPT, user_prompt_8)\n",
    "print(response)"
   ],
   "id": "c668b37f9710ffba",
   "outputs": [
    {
     "name": "stdout",
     "output_type": "stream",
     "text": [
      "```json\n",
      "{\n",
      "  \"response\": \"Okay, switching to treadmills. Do you have a preferred maximum speed or budget?\",\n",
      "  \"updated_slots\": {\n",
      "    \"category\": \"sports\",\n",
      "    \"subcategory\": \"treadmill\"\n",
      "  },\n",
      "  \"constraints\": [],\n",
      "  \"chosen_tool\": {\n",
      "    \"name\": \"filter_products\",\n",
      "    \"params\": {\n",
      "      \"mandatory\": {\n",
      "        \"subcategory\": \"treadmill\",\n",
      "        \"category\": \"sports\"\n",
      "      },\n",
      "      \"optional\": {}\n",
      "    }\n",
      "  },\n",
      "  \"tool_needed\": null,\n",
      "  \"clarification_question\": \"Do you have a preferred maximum speed or budget for treadmills?\",\n",
      "  \"one_shot_optional_prompt\": \"Do you have a preferred maximum speed or budget?\",\n",
      "  \"suggested_footnotes\": [\n",
      "    \"Top by reviews\",\n",
      "    \"Low return rate\",\n",
      "    \"Short review summary\"\n",
      "  ]\n",
      "}\n",
      "```\n"
     ]
    }
   ],
   "execution_count": 49
  },
  {
   "metadata": {
    "ExecuteTime": {
     "end_time": "2025-09-05T12:36:04.977391Z",
     "start_time": "2025-09-05T12:36:04.974835Z"
    }
   },
   "cell_type": "code",
   "source": "",
   "id": "cfed75b5d0eb37f9",
   "outputs": [],
   "execution_count": null
  },
  {
   "metadata": {
    "ExecuteTime": {
     "end_time": "2025-09-05T12:36:28.413707Z",
     "start_time": "2025-09-05T12:36:26.184093Z"
    }
   },
   "cell_type": "code",
   "source": [
    "user_prompt_9 = str({\n",
    "    \"id\": 9,\n",
    "    \"type\": \"contradiction_update\",\n",
    "    \"conversation_context\": [\n",
    "      {\"role\": \"user\", \"content\": \"Show me laptops under $2000\"},\n",
    "      {\"role\": \"user\", \"content\": \"Actually under $1000\"}\n",
    "    ],\n",
    "    \"current_query\": \"Actually under $1000\",\n",
    "    \"slots_till_now\": {\"subcategory\":\"laptop\",\"budget\":2000},\n",
    "    \"fsm_state\": \"COLLECTING\",\n",
    "    \"available_tools\": [\"filter_products\"],\n",
    "    \"spec_keys\": {\"ram_gb\":\"8\",\"price\":\"float\"}\n",
    "  })\n",
    "\n",
    "response = await llm_client.generate(SYSTEM_PROMPT, user_prompt_9)\n",
    "print(response)"
   ],
   "id": "8108987a05093394",
   "outputs": [
    {
     "name": "stdout",
     "output_type": "stream",
     "text": [
      "```json\n",
      "{\n",
      "  \"response\": \"Okay, I’ll update the budget to $1000 for laptops. Shall I search now?\",\n",
      "  \"updated_slots\": {\n",
      "    \"category\": \"electronics\",\n",
      "    \"subcategory\": \"laptop\",\n",
      "    \"budget\": 1000\n",
      "  },\n",
      "  \"constraints\": [\n",
      "    {\n",
      "      \"key\": \"price\",\n",
      "      \"op\": \"<=\",\n",
      "      \"value\": 1000,\n",
      "      \"dtype\": \"float\",\n",
      "      \"source\": \"current_query\"\n",
      "    }\n",
      "  ],\n",
      "  \"chosen_tool\": {\n",
      "    \"name\": \"filter_products\",\n",
      "    \"params\": {\n",
      "      \"mandatory\": {\n",
      "        \"subcategory\": \"laptop\",\n",
      "        \"category\": \"electronics\"\n",
      "      },\n",
      "      \"optional\": {\n",
      "        \"price_range\": [\n",
      "          0,\n",
      "          1000\n",
      "        ]\n",
      "      }\n",
      "    }\n",
      "  },\n",
      "  \"tool_needed\": null,\n",
      "  \"clarification_question\": null,\n",
      "  \"one_shot_optional_prompt\": \"Would you also like to add a brand or RAM size?\",\n",
      "  \"suggested_footnotes\": [\n",
      "    \"Top by reviews\",\n",
      "    \"Low return rate\",\n",
      "    \"Short review summary\"\n",
      "  ]\n",
      "}\n",
      "```\n"
     ]
    }
   ],
   "execution_count": 50
  },
  {
   "metadata": {
    "ExecuteTime": {
     "end_time": "2025-09-05T12:36:28.421818Z",
     "start_time": "2025-09-05T12:36:28.418996Z"
    }
   },
   "cell_type": "code",
   "source": "",
   "id": "f11a5f778d55c24e",
   "outputs": [],
   "execution_count": null
  },
  {
   "metadata": {
    "ExecuteTime": {
     "end_time": "2025-09-05T12:36:49.073554Z",
     "start_time": "2025-09-05T12:36:46.656914Z"
    }
   },
   "cell_type": "code",
   "source": [
    "user_prompt_10 = str({\n",
    "    \"id\": 10,\n",
    "    \"type\": \"contradiction_update\",\n",
    "    \"conversation_context\": [\n",
    "      {\"role\": \"user\", \"content\": \"I want a phone with 8GB RAM\"},\n",
    "      {\"role\": \"user\", \"content\": \"No, make it 12GB\"}\n",
    "    ],\n",
    "    \"current_query\": \"No, make it 12GB\",\n",
    "    \"slots_till_now\": {\"subcategory\":\"mobile\",\"ram_gb\":8},\n",
    "    \"fsm_state\": \"COLLECTING\",\n",
    "    \"available_tools\": [\"filter_products\"],\n",
    "    \"spec_keys\": {\"ram_gb\":\"8\",\"brand\":\"Xiaomi\"}\n",
    "  })\n",
    "\n",
    "response = await llm_client.generate(SYSTEM_PROMPT, user_prompt_10)\n",
    "print(response)"
   ],
   "id": "91c49cf3b55c20b",
   "outputs": [
    {
     "name": "stdout",
     "output_type": "stream",
     "text": [
      "```json\n",
      "{\n",
      "  \"response\": \"Okay, updating the RAM to 12GB.\",\n",
      "  \"updated_slots\": {\n",
      "    \"category\": \"electronics\",\n",
      "    \"subcategory\": \"mobile\",\n",
      "    \"ram_gb\": 12\n",
      "  },\n",
      "  \"constraints\": [\n",
      "    {\n",
      "      \"key\": \"ram_gb\",\n",
      "      \"op\": \"==\",\n",
      "      \"value\": 12,\n",
      "      \"dtype\": \"int\",\n",
      "      \"source\": \"current_query\"\n",
      "    }\n",
      "  ],\n",
      "  \"chosen_tool\": {\n",
      "    \"name\": \"filter_products\",\n",
      "    \"params\": {\n",
      "      \"mandatory\": {\n",
      "        \"subcategory\": \"mobile\",\n",
      "        \"category\": \"electronics\"\n",
      "      },\n",
      "      \"optional\": {\n",
      "        \"specifications\": [\n",
      "          {\n",
      "            \"key\": \"ram_gb\",\n",
      "            \"op\": \"==\",\n",
      "            \"value\": 12\n",
      "          }\n",
      "        ]\n",
      "      }\n",
      "    }\n",
      "  },\n",
      "  \"tool_needed\": null,\n",
      "  \"clarification_question\": null,\n",
      "  \"one_shot_optional_prompt\": \"Do you have a preferred brand?\",\n",
      "  \"suggested_footnotes\": [\n",
      "    \"Top by reviews\",\n",
      "    \"Low return rate\",\n",
      "    \"Short review summary\"\n",
      "  ]\n",
      "}\n",
      "```\n"
     ]
    }
   ],
   "execution_count": 51
  },
  {
   "metadata": {
    "ExecuteTime": {
     "end_time": "2025-09-05T12:36:49.084657Z",
     "start_time": "2025-09-05T12:36:49.081498Z"
    }
   },
   "cell_type": "code",
   "source": "",
   "id": "89e728e39f6ec604",
   "outputs": [],
   "execution_count": null
  },
  {
   "metadata": {
    "ExecuteTime": {
     "end_time": "2025-09-05T12:37:11.125999Z",
     "start_time": "2025-09-05T12:37:09.593480Z"
    }
   },
   "cell_type": "code",
   "source": [
    "user_prompt_11 = str({\n",
    "    \"id\": 11,\n",
    "    \"type\": \"out_of_scope\",\n",
    "    \"conversation_context\": [\n",
    "      {\"role\": \"user\", \"content\": \"How many orders did I place last year?\"}\n",
    "    ],\n",
    "    \"current_query\": \"How many orders did I place last year?\",\n",
    "    \"slots_till_now\": {},\n",
    "    \"fsm_state\": \"COLLECTING\",\n",
    "    \"available_tools\": [\"filter_products\",\"rank_products_by_reviews\"],\n",
    "    \"spec_keys\": {}\n",
    "  })\n",
    "\n",
    "response = await llm_client.generate(SYSTEM_PROMPT, user_prompt_11)\n",
    "print(response)"
   ],
   "id": "ba704f9348059802",
   "outputs": [
    {
     "name": "stdout",
     "output_type": "stream",
     "text": [
      "```json\n",
      "{\n",
      "  \"response\": \"I am unable to fulfill that request.\",\n",
      "  \"updated_slots\": {},\n",
      "  \"constraints\": [],\n",
      "  \"chosen_tool\": null,\n",
      "  \"tool_needed\": null,\n",
      "  \"clarification_question\": null,\n",
      "  \"one_shot_optional_prompt\": null,\n",
      "  \"suggested_footnotes\": []\n",
      "}\n",
      "```\n"
     ]
    }
   ],
   "execution_count": 52
  },
  {
   "metadata": {
    "ExecuteTime": {
     "end_time": "2025-09-05T12:37:11.144741Z",
     "start_time": "2025-09-05T12:37:11.142636Z"
    }
   },
   "cell_type": "code",
   "source": "",
   "id": "6ce87d3b3076461d",
   "outputs": [],
   "execution_count": null
  },
  {
   "metadata": {
    "ExecuteTime": {
     "end_time": "2025-09-05T12:37:36.423318Z",
     "start_time": "2025-09-05T12:37:34.902188Z"
    }
   },
   "cell_type": "code",
   "source": [
    "user_prompt_12 = str({\n",
    "    \"id\": 12,\n",
    "    \"type\": \"out_of_scope\",\n",
    "    \"conversation_context\": [\n",
    "      {\"role\": \"user\", \"content\": \"Which of my past purchases were returned?\"}\n",
    "    ],\n",
    "    \"current_query\": \"Which of my past purchases were returned?\",\n",
    "    \"slots_till_now\": {\"user_id\": 555},\n",
    "    \"fsm_state\": \"COLLECTING\",\n",
    "    \"available_tools\": [\"filter_products\",\"get_product_reviews\"],\n",
    "    \"spec_keys\": {}\n",
    "  })\n",
    "\n",
    "response = await llm_client.generate(SYSTEM_PROMPT, user_prompt_12)\n",
    "print(response)"
   ],
   "id": "fb8416b7dca0b311",
   "outputs": [
    {
     "name": "stdout",
     "output_type": "stream",
     "text": [
      "```json\n",
      "{\n",
      "  \"response\": \"I do not have the functionality to access your past purchases and returns.\",\n",
      "  \"updated_slots\": {},\n",
      "  \"constraints\": [],\n",
      "  \"chosen_tool\": null,\n",
      "  \"tool_needed\": null,\n",
      "  \"clarification_question\": null,\n",
      "  \"one_shot_optional_prompt\": null,\n",
      "  \"suggested_footnotes\": []\n",
      "}\n",
      "```\n"
     ]
    }
   ],
   "execution_count": 53
  },
  {
   "metadata": {
    "ExecuteTime": {
     "end_time": "2025-09-05T12:41:10.095868Z",
     "start_time": "2025-09-05T12:41:10.091007Z"
    }
   },
   "cell_type": "code",
   "source": "1",
   "id": "2fadeaff19ff40e6",
   "outputs": [
    {
     "data": {
      "text/plain": [
       "1"
      ]
     },
     "execution_count": 54,
     "metadata": {},
     "output_type": "execute_result"
    }
   ],
   "execution_count": 54
  },
  {
   "metadata": {},
   "cell_type": "code",
   "outputs": [],
   "execution_count": null,
   "source": "",
   "id": "fdc2397aa631b898"
  }
 ],
 "metadata": {
  "kernelspec": {
   "display_name": "Python 3",
   "language": "python",
   "name": "python3"
  },
  "language_info": {
   "codemirror_mode": {
    "name": "ipython",
    "version": 2
   },
   "file_extension": ".py",
   "mimetype": "text/x-python",
   "name": "python",
   "nbconvert_exporter": "python",
   "pygments_lexer": "ipython2",
   "version": "2.7.6"
  }
 },
 "nbformat": 4,
 "nbformat_minor": 5
}
