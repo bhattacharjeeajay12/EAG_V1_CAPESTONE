{
 "cells": [
  {
   "cell_type": "code",
   "id": "initial_id",
   "metadata": {
    "collapsed": true,
    "ExecuteTime": {
     "end_time": "2025-09-05T16:20:20.064667Z",
     "start_time": "2025-09-05T16:20:18.918399Z"
    }
   },
   "source": [
    "from core.llm_client import LLMClient\n",
    "import os\n",
    "\n",
    "# model_type = os.getenv(\"MODEL_TYPE\", \"openai\")\n",
    "model_type = os.getenv(\"\", \"gemini\")\n",
    "llm_client = LLMClient(model_type=model_type)\n",
    "\n",
    "model_type"
   ],
   "outputs": [
    {
     "data": {
      "text/plain": [
       "'gemini'"
      ]
     },
     "execution_count": 3,
     "metadata": {},
     "output_type": "execute_result"
    }
   ],
   "execution_count": 3
  },
  {
   "metadata": {
    "ExecuteTime": {
     "end_time": "2025-09-05T16:20:20.091450Z",
     "start_time": "2025-09-05T16:20:20.086023Z"
    }
   },
   "cell_type": "code",
   "source": [
    "from prompts.discovery import SYSTEM_PROMPT\n",
    "from tools.registry import ToolRegistry\n",
    "from utility import load_json\n",
    "\n",
    "registry_json = load_json(os.path.join(\"tools\", \"registry.json\"))\n",
    "spec_json = load_json(os.path.join(\"tools\", \"specs.json\"))"
   ],
   "id": "dedab6229e21b3b0",
   "outputs": [],
   "execution_count": 4
  },
  {
   "metadata": {
    "ExecuteTime": {
     "end_time": "2025-09-05T16:17:07.958769Z",
     "start_time": "2025-09-05T16:17:04.248158Z"
    }
   },
   "cell_type": "code",
   "source": [
    "user_prompt_1 = str({\n",
    "    \"id\": 1,\n",
    "    \"type\": \"straightforward\",\n",
    "    \"conversation_context\": [\n",
    "      {\"role\": \"user\", \"content\": \"Show me Apple laptops under $1200 with at least 16GB RAM\"}\n",
    "    ],\n",
    "    \"current_query\": \"Show me Apple laptops under $1200 with at least 16GB RAM\",\n",
    "    \"slots_till_now\": {},\n",
    "    \"fsm_state\": \"COLLECTING\",\n",
    "    \"available_tools\": registry_json,\n",
    "    \"spec_keys\": [spec.lower() for spec in spec_json[\"electronics\"][\"laptop\"]] # planner knows the subcategory\n",
    "  })\n",
    "\n",
    "response = await llm_client.generate(SYSTEM_PROMPT, user_prompt_1)\n",
    "print(response)"
   ],
   "id": "13a051e0bbd430b4",
   "outputs": [
    {
     "name": "stdout",
     "output_type": "stream",
     "text": [
      "```json\n",
      "{\n",
      "  \"response\": \"Okay, I can find Apple laptops under $1200 with at least 16GB RAM.\",\n",
      "  \"updated_slots\": {\n",
      "    \"category\": \"electronics\",\n",
      "    \"subcategory\": \"laptop\",\n",
      "    \"brand\": \"Apple\",\n",
      "    \"budget\": 1200,\n",
      "    \"ram_gb\": 16\n",
      "  },\n",
      "  \"constraints\": [\n",
      "    {\n",
      "      \"key\": \"brand\",\n",
      "      \"op\": \"==\",\n",
      "      \"value\": \"Apple\",\n",
      "      \"dtype\": \"enum\",\n",
      "      \"source\": \"current_query\"\n",
      "    },\n",
      "    {\n",
      "      \"key\": \"price\",\n",
      "      \"op\": \"<=\",\n",
      "      \"value\": 1200,\n",
      "      \"dtype\": \"float\",\n",
      "      \"source\": \"current_query\"\n",
      "    },\n",
      "    {\n",
      "      \"key\": \"ram_gb\",\n",
      "      \"op\": \">=\",\n",
      "      \"value\": 16,\n",
      "      \"dtype\": \"int\",\n",
      "      \"source\": \"current_query\"\n",
      "    }\n",
      "  ],\n",
      "  \"chosen_tool\": {\n",
      "    \"name\": \"filter_products\",\n",
      "    \"params\": {\n",
      "      \"mandatory\": {\n",
      "        \"subcategory\": \"laptop\",\n",
      "        \"category\": \"electronics\"\n",
      "      },\n",
      "      \"optional\": {\n",
      "        \"brand\": \"Apple\",\n",
      "        \"price_range\": [\n",
      "          0,\n",
      "          1200\n",
      "        ],\n",
      "        \"specifications\": [\n",
      "          {\n",
      "            \"key\": \"ram_gb\",\n",
      "            \"op\": \">=\",\n",
      "            \"value\": 16\n",
      "          }\n",
      "        ]\n",
      "      }\n",
      "    }\n",
      "  },\n",
      "  \"execute_flag\": true,\n",
      "  \"tool_needed\": null,\n",
      "  \"clarification_question\": null,\n",
      "  \"one_shot_optional_prompt\": null,\n",
      "  \"suggested_footnotes\": [\n",
      "    \"Top by reviews\",\n",
      "    \"Low return rate\",\n",
      "    \"Short review summary\"\n",
      "  ]\n",
      "}\n",
      "```\n"
     ]
    }
   ],
   "execution_count": 3
  },
  {
   "metadata": {
    "ExecuteTime": {
     "end_time": "2025-09-05T16:17:07.971833Z",
     "start_time": "2025-09-05T16:17:07.967320Z"
    }
   },
   "cell_type": "code",
   "source": "1",
   "id": "22efacc7ec184afd",
   "outputs": [
    {
     "data": {
      "text/plain": [
       "1"
      ]
     },
     "execution_count": 4,
     "metadata": {},
     "output_type": "execute_result"
    }
   ],
   "execution_count": 4
  },
  {
   "metadata": {
    "ExecuteTime": {
     "end_time": "2025-09-05T16:17:10.650509Z",
     "start_time": "2025-09-05T16:17:07.983987Z"
    }
   },
   "cell_type": "code",
   "source": [
    "user_prompt_2 = str({\n",
    "    \"id\": 2,\n",
    "    \"type\": \"straightforward\",\n",
    "    \"conversation_context\": [\n",
    "      {\"role\": \"user\", \"content\": \"I want a treadmill between $300 and $700 with a 3-year warranty\"}\n",
    "    ],\n",
    "    \"current_query\": \"I want a treadmill between $300 and $700 with a 3-year warranty\",\n",
    "    \"slots_till_now\": {},\n",
    "    \"fsm_state\": \"COLLECTING\",\n",
    "    \"available_tools\": registry_json,\n",
    "    \"spec_keys\": [spec.lower() for spec in spec_json[\"sports\"][\"treadmill\"]] # planner knows the subcategory\n",
    "  })\n",
    "\n",
    "response = await llm_client.generate(SYSTEM_PROMPT, user_prompt_2)\n",
    "print(response)"
   ],
   "id": "b2156eeb5e0310e4",
   "outputs": [
    {
     "name": "stdout",
     "output_type": "stream",
     "text": [
      "```json\n",
      "{\n",
      "  \"response\": \"Okay, I can find treadmills between $300 and $700. Unfortunately, I can't filter by warranty duration.\",\n",
      "  \"updated_slots\": {\n",
      "    \"category\": \"sports\",\n",
      "    \"subcategory\": \"treadmill\",\n",
      "    \"budget\": 700\n",
      "  },\n",
      "  \"constraints\": [\n",
      "    {\n",
      "      \"key\": \"price\",\n",
      "      \"op\": \"BETWEEN\",\n",
      "      \"value\": [\n",
      "        300.0,\n",
      "        700.0\n",
      "      ],\n",
      "      \"dtype\": \"float\",\n",
      "      \"source\": \"current_query\"\n",
      "    }\n",
      "  ],\n",
      "  \"chosen_tool\": {\n",
      "    \"name\": \"filter_products\",\n",
      "    \"params\": {\n",
      "      \"mandatory\": {\n",
      "        \"subcategory\": \"treadmill\",\n",
      "        \"category\": \"sports\"\n",
      "      },\n",
      "      \"optional\": {\n",
      "        \"price_range\": [\n",
      "          300,\n",
      "          700\n",
      "        ]\n",
      "      }\n",
      "    }\n",
      "  },\n",
      "  \"execute_flag\": true,\n",
      "  \"tool_needed\": null,\n",
      "  \"clarification_question\": null,\n",
      "  \"one_shot_optional_prompt\": null,\n",
      "  \"suggested_footnotes\": [\n",
      "    \"Top by reviews\",\n",
      "    \"Low return rate\",\n",
      "    \"Short review summary\"\n",
      "  ]\n",
      "}\n",
      "```\n"
     ]
    }
   ],
   "execution_count": 5
  },
  {
   "metadata": {
    "ExecuteTime": {
     "end_time": "2025-09-05T16:17:10.657187Z",
     "start_time": "2025-09-05T16:17:10.655377Z"
    }
   },
   "cell_type": "code",
   "source": "",
   "id": "bd8d6a12feb47874",
   "outputs": [],
   "execution_count": null
  },
  {
   "metadata": {
    "ExecuteTime": {
     "end_time": "2025-09-05T16:17:12.857769Z",
     "start_time": "2025-09-05T16:17:10.669436Z"
    }
   },
   "cell_type": "code",
   "source": [
    "user_prompt_3 = str({\n",
    "    \"id\": 3,\n",
    "    \"type\": \"missing_optional\",\n",
    "    \"conversation_context\": [\n",
    "      {\"role\": \"user\", \"content\": \"Show me laptops\"}\n",
    "    ],\n",
    "    \"current_query\": \"Show me laptops\",\n",
    "    \"slots_till_now\": {},\n",
    "    \"fsm_state\": \"COLLECTING\",\n",
    "    \"available_tools\": registry_json,\n",
    "    \"spec_keys\": [spec.lower() for spec in spec_json[\"electronics\"][\"laptop\"]] # planner knows the subcategory\n",
    "  })\n",
    "\n",
    "response = await llm_client.generate(SYSTEM_PROMPT, user_prompt_3)\n",
    "print(response)"
   ],
   "id": "fb9956cd5e3dfdc6",
   "outputs": [
    {
     "name": "stdout",
     "output_type": "stream",
     "text": [
      "```json\n",
      "{\n",
      "  \"response\": \"I can show you laptops. Do you have a preferred brand or budget in mind?\",\n",
      "  \"updated_slots\": {\n",
      "    \"category\": \"electronics\",\n",
      "    \"subcategory\": \"laptop\"\n",
      "  },\n",
      "  \"constraints\": [],\n",
      "  \"chosen_tool\": {\n",
      "    \"name\": \"filter_products\",\n",
      "    \"params\": {\n",
      "      \"mandatory\": {\n",
      "        \"subcategory\": \"laptop\",\n",
      "        \"category\": \"electronics\"\n",
      "      },\n",
      "      \"optional\": {}\n",
      "    }\n",
      "  },\n",
      "  \"execute_flag\": false,\n",
      "  \"tool_needed\": null,\n",
      "  \"clarification_question\": null,\n",
      "  \"one_shot_optional_prompt\": \"Do you have a preferred brand or budget?\",\n",
      "  \"suggested_footnotes\": [\n",
      "    \"Top by reviews\",\n",
      "    \"Low return rate\",\n",
      "    \"Short review summary\"\n",
      "  ]\n",
      "}\n",
      "```\n"
     ]
    }
   ],
   "execution_count": 6
  },
  {
   "metadata": {
    "ExecuteTime": {
     "end_time": "2025-09-05T16:18:55.616788Z",
     "start_time": "2025-09-05T16:18:55.612624Z"
    }
   },
   "cell_type": "code",
   "source": "spec_json",
   "id": "ffa1c3b2bd3f6ec6",
   "outputs": [
    {
     "data": {
      "text/plain": [
       "{'electronics': {'laptop': ['Processor',\n",
       "   'RAM',\n",
       "   'Storage',\n",
       "   'Graphics',\n",
       "   'Display',\n",
       "   'Operating System',\n",
       "   'Weight'],\n",
       "  'phone': ['Processor',\n",
       "   'RAM',\n",
       "   'Storage',\n",
       "   'Display',\n",
       "   'Camera',\n",
       "   'Battery',\n",
       "   'Operating System']},\n",
       " 'sports': {'treadmill': ['Motor',\n",
       "   'Speed Range',\n",
       "   'Incline Range',\n",
       "   'Running Surface',\n",
       "   'Display',\n",
       "   'Incline'],\n",
       "  'earphone': ['Driver Size',\n",
       "   'Connectivity',\n",
       "   'Battery Life',\n",
       "   'Noise Cancellation',\n",
       "   'Water Resistance',\n",
       "   'Charging']}}"
      ]
     },
     "execution_count": 11,
     "metadata": {},
     "output_type": "execute_result"
    }
   ],
   "execution_count": 11
  },
  {
   "metadata": {
    "ExecuteTime": {
     "end_time": "2025-09-05T16:19:24.239617Z",
     "start_time": "2025-09-05T16:19:24.235542Z"
    }
   },
   "cell_type": "code",
   "source": "spec_json[\"electronics\"]",
   "id": "a380d5192d02f74f",
   "outputs": [
    {
     "data": {
      "text/plain": [
       "{'laptop': ['Processor',\n",
       "  'RAM',\n",
       "  'Storage',\n",
       "  'Graphics',\n",
       "  'Display',\n",
       "  'Operating System',\n",
       "  'Weight'],\n",
       " 'phone': ['Processor',\n",
       "  'RAM',\n",
       "  'Storage',\n",
       "  'Display',\n",
       "  'Camera',\n",
       "  'Battery',\n",
       "  'Operating System']}"
      ]
     },
     "execution_count": 13,
     "metadata": {},
     "output_type": "execute_result"
    }
   ],
   "execution_count": 13
  },
  {
   "metadata": {
    "ExecuteTime": {
     "end_time": "2025-09-05T16:20:29.396178Z",
     "start_time": "2025-09-05T16:20:26.127442Z"
    }
   },
   "cell_type": "code",
   "source": [
    "user_prompt_4 = str({\n",
    "    \"id\": 4,\n",
    "    \"type\": \"missing_optional\",\n",
    "    \"conversation_context\": [\n",
    "      {\"role\": \"user\", \"content\": \"I want headphones\"}\n",
    "    ],\n",
    "    \"current_query\": \"I want headphones\",\n",
    "    \"slots_till_now\": {},\n",
    "    \"fsm_state\": \"COLLECTING\",\n",
    "    \"available_tools\": registry_json,\n",
    "    \"spec_keys\": [spec.lower() for spec in spec_json[\"electronics\"][\"earphone\"]] # planner knows the subcategory from current query\n",
    "  })\n",
    "\n",
    "response = await llm_client.generate(SYSTEM_PROMPT, user_prompt_4)\n",
    "print(response)"
   ],
   "id": "b297ed0a7f4959ef",
   "outputs": [
    {
     "name": "stdout",
     "output_type": "stream",
     "text": [
      "```json\n",
      "{\n",
      "  \"response\": \"I can show you headphones. Do you have a preferred brand or price range?\",\n",
      "  \"updated_slots\": {\n",
      "    \"category\": \"electronics\",\n",
      "    \"subcategory\": \"headphones\"\n",
      "  },\n",
      "  \"constraints\": [],\n",
      "  \"chosen_tool\": {\n",
      "    \"name\": \"filter_products\",\n",
      "    \"params\": {\n",
      "      \"mandatory\": {\n",
      "        \"subcategory\": \"headphones\",\n",
      "        \"category\": \"electronics\"\n",
      "      },\n",
      "      \"optional\": {}\n",
      "    }\n",
      "  },\n",
      "  \"execute_flag\": false,\n",
      "  \"tool_needed\": null,\n",
      "  \"clarification_question\": null,\n",
      "  \"one_shot_optional_prompt\": \"Do you have a preferred brand or price range?\",\n",
      "  \"suggested_footnotes\": [\n",
      "    \"Top by reviews\",\n",
      "    \"Low return rate\",\n",
      "    \"Short review summary\"\n",
      "  ]\n",
      "}\n",
      "```\n"
     ]
    }
   ],
   "execution_count": 5
  },
  {
   "metadata": {},
   "cell_type": "code",
   "outputs": [],
   "execution_count": null,
   "source": "",
   "id": "d562b06f49e12488"
  },
  {
   "metadata": {
    "ExecuteTime": {
     "end_time": "2025-09-05T16:17:13.394243900Z",
     "start_time": "2025-09-05T13:36:12.187580Z"
    }
   },
   "cell_type": "code",
   "source": [
    "user_prompt_5 = str({\n",
    "    \"id\": 5,\n",
    "    \"type\": \"ambiguity\",\n",
    "    \"conversation_context\": [\n",
    "      {\"role\": \"user\", \"content\": \"What are the best mobiles?\"}\n",
    "    ],\n",
    "    \"current_query\": \"What are the best mobiles?\",\n",
    "    \"slots_till_now\": {},\n",
    "    \"fsm_state\": \"COLLECTING\",\n",
    "    \"available_tools\": [\"rank_products_by_reviews\",\"rank_products_by_review_count\",\"filter_products\"],\n",
    "    \"spec_keys\": [spec.lower() for spec in spec_json[\"electronics\"][\"smartphone\"]] # planner knows the subcategory from current query\n",
    "  })\n",
    "\n",
    "response = await llm_client.generate(SYSTEM_PROMPT, user_prompt_5)\n",
    "print(response)"
   ],
   "id": "9cb7da882f7ba02c",
   "outputs": [
    {
     "name": "stdout",
     "output_type": "stream",
     "text": [
      "```json\n",
      "{\n",
      "  \"response\": \"To clarify, are you looking for mobiles with the highest ratings or the most reviews?\",\n",
      "  \"updated_slots\": {\n",
      "    \"category\": \"electronics\",\n",
      "    \"subcategory\": \"mobile\"\n",
      "  },\n",
      "  \"constraints\": [],\n",
      "  \"chosen_tool\": null,\n",
      "  \"execute_flag\": false,\n",
      "  \"tool_needed\": \"rank_products_by_reviews\",\n",
      "  \"clarification_question\": \"Do you want to rank by average rating or by review count?\",\n",
      "  \"one_shot_optional_prompt\": null,\n",
      "  \"suggested_footnotes\": [\n",
      "    \"Top by reviews\",\n",
      "    \"Low return rate\",\n",
      "    \"Short review summary\"\n",
      "  ]\n",
      "}\n",
      "```\n"
     ]
    }
   ],
   "execution_count": 7
  },
  {
   "metadata": {
    "ExecuteTime": {
     "end_time": "2025-09-05T16:17:13.394243900Z",
     "start_time": "2025-09-05T13:36:13.949383Z"
    }
   },
   "cell_type": "code",
   "source": "",
   "id": "f0f5243a1914fe5d",
   "outputs": [],
   "execution_count": null
  },
  {
   "metadata": {
    "ExecuteTime": {
     "end_time": "2025-09-05T16:17:13.400939600Z",
     "start_time": "2025-09-05T13:36:13.965508Z"
    }
   },
   "cell_type": "code",
   "source": [
    "user_prompt_6 = str({\n",
    "    \"id\": 6,\n",
    "    \"type\": \"ambiguity\",\n",
    "    \"conversation_context\": [\n",
    "      {\"role\": \"user\", \"content\": \"Which headphones are most popular?\"}\n",
    "    ],\n",
    "    \"current_query\": \"Which headphones are most popular?\",\n",
    "    \"slots_till_now\": {},\n",
    "    \"fsm_state\": \"COLLECTING\",\n",
    "    \"available_tools\": [\"rank_products_by_review_count\",\"product_cooccurrence_analysis\"],\n",
    "    \"spec_keys\": [spec.lower() for spec in spec_json[\"electronics\"][\"earphone\"]] # planner knows the subcategory from current query\n",
    "  })\n",
    "\n",
    "response = await llm_client.generate(SYSTEM_PROMPT, user_prompt_6)\n",
    "print(response)"
   ],
   "id": "6b0d4c9d14e65474",
   "outputs": [
    {
     "name": "stdout",
     "output_type": "stream",
     "text": [
      "```json\n",
      "{\n",
      "  \"response\": \"When you say 'most popular', do you mean the headphones with the highest number of reviews or something else?\",\n",
      "  \"updated_slots\": {\n",
      "    \"category\": \"electronics\",\n",
      "    \"subcategory\": \"headphones\"\n",
      "  },\n",
      "  \"constraints\": [],\n",
      "  \"chosen_tool\": null,\n",
      "  \"execute_flag\": false,\n",
      "  \"tool_needed\": \"rank_products_by_review_count\",\n",
      "  \"clarification_question\": \"Do you want to rank by review count?\",\n",
      "  \"one_shot_optional_prompt\": null,\n",
      "  \"suggested_footnotes\": [\n",
      "    \"Top by reviews\",\n",
      "    \"Low return rate\",\n",
      "    \"Short review summary\"\n",
      "  ]\n",
      "}\n",
      "```\n"
     ]
    }
   ],
   "execution_count": 8
  },
  {
   "metadata": {
    "ExecuteTime": {
     "end_time": "2025-09-05T16:17:13.402151400Z",
     "start_time": "2025-09-05T13:36:15.732219Z"
    }
   },
   "cell_type": "code",
   "source": "",
   "id": "c437229eaf291546",
   "outputs": [],
   "execution_count": null
  },
  {
   "metadata": {
    "ExecuteTime": {
     "end_time": "2025-09-05T16:17:13.402151400Z",
     "start_time": "2025-09-05T13:36:15.749358Z"
    }
   },
   "cell_type": "code",
   "source": [
    "user_prompt_7 = str({\n",
    "    \"id\": 7,\n",
    "    \"type\": \"context_switch\",\n",
    "    \"conversation_context\": [\n",
    "      {\"role\": \"user\", \"content\": \"Show me Dell laptops under $1000\"},\n",
    "      {\"role\": \"assistant\", \"content\": \"Do you want any specific RAM or screen size?\"},\n",
    "      {\"role\": \"user\", \"content\": \"Actually, show me mobiles\"}\n",
    "    ],\n",
    "    \"current_query\": \"Actually, show me mobiles\",\n",
    "    \"slots_till_now\": {\"subcategory\":\"laptop\",\"brand\":\"Dell\",\"budget\":1000},\n",
    "    \"fsm_state\": \"COLLECTING\",\n",
    "    \"available_tools\": [\"filter_products\",\"list_brands\"],\n",
    "    \"spec_keys\": [spec.lower() for spec in spec_json[\"electronics\"][\"smartphone\"]] # planner knows the subcategory\n",
    "  })\n",
    "\n",
    "response = await llm_client.generate(SYSTEM_PROMPT, user_prompt_7)\n",
    "print(response)"
   ],
   "id": "f8d2d90cdbe30072",
   "outputs": [
    {
     "name": "stdout",
     "output_type": "stream",
     "text": [
      "```json\n",
      "{\n",
      "  \"response\": \"Got it, switching to mobiles. Do you want to filter by brand or budget?\",\n",
      "  \"updated_slots\": {\n",
      "    \"category\": \"electronics\",\n",
      "    \"subcategory\": \"mobile\"\n",
      "  },\n",
      "  \"constraints\": [],\n",
      "  \"chosen_tool\": null,\n",
      "  \"execute_flag\": false,\n",
      "  \"tool_needed\": \"filter_products\",\n",
      "  \"clarification_question\": \"Do you have a preferred brand or budget for mobiles?\",\n",
      "  \"one_shot_optional_prompt\": \"Do you want to specify a budget or brand?\",\n",
      "  \"suggested_footnotes\": [\n",
      "    \"Top by reviews\",\n",
      "    \"Low return rate\",\n",
      "    \"Short review summary\"\n",
      "  ]\n",
      "}\n",
      "```\n"
     ]
    }
   ],
   "execution_count": 9
  },
  {
   "metadata": {
    "ExecuteTime": {
     "end_time": "2025-09-05T16:17:13.403157100Z",
     "start_time": "2025-09-05T13:36:17.587124Z"
    }
   },
   "cell_type": "code",
   "source": "",
   "id": "33b52e1af2fe0381",
   "outputs": [],
   "execution_count": null
  },
  {
   "metadata": {
    "ExecuteTime": {
     "end_time": "2025-09-05T16:17:13.405663300Z",
     "start_time": "2025-09-05T13:36:17.606674Z"
    }
   },
   "cell_type": "code",
   "source": [
    "user_prompt_8 = str({\n",
    "    \"id\": 8,\n",
    "    \"type\": \"context_switch\",\n",
    "    \"conversation_context\": [\n",
    "      {\"role\": \"user\", \"content\": \"I'm looking for a cricket bat\"},\n",
    "      {\"role\": \"assistant\", \"content\": \"What weight do you prefer?\"},\n",
    "      {\"role\": \"user\", \"content\": \"Instead, show me a treadmill\"}\n",
    "    ],\n",
    "    \"current_query\": \"Instead, show me a treadmill\",\n",
    "    \"slots_till_now\": {\"subcategory\":\"cricket_bat\"},\n",
    "    \"fsm_state\": \"COLLECTING\",\n",
    "    \"available_tools\": [\"filter_products\",\"list_specifications\"],\n",
    "    \"spec_keys\": [spec.lower() for spec in spec_json[\"sports\"][\"treadmill\"]] # planner knows the subcategory\n",
    "  })\n",
    "\n",
    "response = await llm_client.generate(SYSTEM_PROMPT, user_prompt_8)\n",
    "print(response)"
   ],
   "id": "c668b37f9710ffba",
   "outputs": [
    {
     "name": "stdout",
     "output_type": "stream",
     "text": [
      "```json\n",
      "{\n",
      "  \"response\": \"Okay, switching to treadmills. Do you have a preferred maximum speed or budget?\",\n",
      "  \"updated_slots\": {\n",
      "    \"category\": \"sports\",\n",
      "    \"subcategory\": \"treadmill\"\n",
      "  },\n",
      "  \"constraints\": [],\n",
      "  \"chosen_tool\": {\n",
      "    \"name\": \"filter_products\",\n",
      "    \"params\": {\n",
      "      \"mandatory\": {\n",
      "        \"subcategory\": \"treadmill\",\n",
      "        \"category\": \"sports\"\n",
      "      },\n",
      "      \"optional\": {}\n",
      "    }\n",
      "  },\n",
      "  \"execute_flag\": false,\n",
      "  \"tool_needed\": \"filter_products\",\n",
      "  \"clarification_question\": \"Do you have a preferred maximum speed or budget for treadmills?\",\n",
      "  \"one_shot_optional_prompt\": \"Do you want to specify a budget or max speed?\",\n",
      "  \"suggested_footnotes\": [\n",
      "    \"Top by reviews\",\n",
      "    \"Low return rate\",\n",
      "    \"Short review summary\"\n",
      "  ]\n",
      "}\n",
      "```\n"
     ]
    }
   ],
   "execution_count": 10
  },
  {
   "metadata": {
    "ExecuteTime": {
     "end_time": "2025-09-05T16:17:13.405663300Z",
     "start_time": "2025-09-05T13:36:19.567270Z"
    }
   },
   "cell_type": "code",
   "source": "",
   "id": "cfed75b5d0eb37f9",
   "outputs": [],
   "execution_count": null
  },
  {
   "metadata": {
    "ExecuteTime": {
     "end_time": "2025-09-05T16:17:13.407077500Z",
     "start_time": "2025-09-05T13:36:19.581014Z"
    }
   },
   "cell_type": "code",
   "source": [
    "user_prompt_9 = str({\n",
    "    \"id\": 9,\n",
    "    \"type\": \"contradiction_update\",\n",
    "    \"conversation_context\": [\n",
    "      {\"role\": \"user\", \"content\": \"Show me laptops under $2000\"},\n",
    "      {\"role\": \"user\", \"content\": \"Actually under $1000\"}\n",
    "    ],\n",
    "    \"current_query\": \"Actually under $1000\",\n",
    "    \"slots_till_now\": {\"subcategory\":\"laptop\",\"budget\":2000},\n",
    "    \"fsm_state\": \"COLLECTING\",\n",
    "    \"available_tools\": [\"filter_products\"],\n",
    "    \"spec_keys\": [spec.lower() for spec in spec_json[\"electronics\"][\"laptop\"]] # planner knows the subcategory\n",
    "  })\n",
    "\n",
    "response = await llm_client.generate(SYSTEM_PROMPT, user_prompt_9)\n",
    "print(response)"
   ],
   "id": "8108987a05093394",
   "outputs": [
    {
     "name": "stdout",
     "output_type": "stream",
     "text": [
      "```json\n",
      "{\n",
      "  \"response\": \"Okay, I’ll update the budget to $1000 for laptops. Shall I search now?\",\n",
      "  \"updated_slots\": {\n",
      "    \"category\": \"electronics\",\n",
      "    \"subcategory\": \"laptop\",\n",
      "    \"budget\": 1000\n",
      "  },\n",
      "  \"constraints\": [\n",
      "    {\n",
      "      \"key\": \"price\",\n",
      "      \"op\": \"<=\",\n",
      "      \"value\": 1000.0,\n",
      "      \"dtype\": \"float\",\n",
      "      \"source\": \"current_query\"\n",
      "    }\n",
      "  ],\n",
      "  \"chosen_tool\": {\n",
      "    \"name\": \"filter_products\",\n",
      "    \"params\": {\n",
      "      \"mandatory\": {\n",
      "        \"subcategory\": \"laptop\",\n",
      "        \"category\": \"electronics\"\n",
      "      },\n",
      "      \"optional\": {\n",
      "        \"price_range\": [\n",
      "          0,\n",
      "          1000.0\n",
      "        ]\n",
      "      }\n",
      "    }\n",
      "  },\n",
      "  \"execute_flag\": true,\n",
      "  \"tool_needed\": null,\n",
      "  \"clarification_question\": null,\n",
      "  \"one_shot_optional_prompt\": \"Would you also like to add a brand or RAM size?\",\n",
      "  \"suggested_footnotes\": [\n",
      "    \"Top by reviews\",\n",
      "    \"Low return rate\",\n",
      "    \"Short review summary\"\n",
      "  ]\n",
      "}\n",
      "```\n"
     ]
    }
   ],
   "execution_count": 11
  },
  {
   "metadata": {
    "ExecuteTime": {
     "end_time": "2025-09-05T16:17:13.407077500Z",
     "start_time": "2025-09-05T13:36:22.109506Z"
    }
   },
   "cell_type": "code",
   "source": "",
   "id": "f11a5f778d55c24e",
   "outputs": [],
   "execution_count": null
  },
  {
   "metadata": {
    "ExecuteTime": {
     "end_time": "2025-09-05T16:17:13.407077500Z",
     "start_time": "2025-09-05T13:36:22.123192Z"
    }
   },
   "cell_type": "code",
   "source": [
    "user_prompt_10 = str({\n",
    "    \"id\": 10,\n",
    "    \"type\": \"contradiction_update\",\n",
    "    \"conversation_context\": [\n",
    "      {\"role\": \"user\", \"content\": \"I want a phone with 8GB RAM\"},\n",
    "      {\"role\": \"user\", \"content\": \"No, make it 12GB\"}\n",
    "    ],\n",
    "    \"current_query\": \"No, make it 12GB\",\n",
    "    \"slots_till_now\": {\"subcategory\":\"mobile\",\"ram_gb\":8},\n",
    "    \"fsm_state\": \"COLLECTING\",\n",
    "    \"available_tools\": [\"filter_products\"],\n",
    "    \"spec_keys\": [spec.lower() for spec in spec_json[\"electronics\"][\"smartphone\"]] # planner knows the subcategory\n",
    "  })\n",
    "\n",
    "response = await llm_client.generate(SYSTEM_PROMPT, user_prompt_10)\n",
    "print(response)"
   ],
   "id": "91c49cf3b55c20b",
   "outputs": [
    {
     "name": "stdout",
     "output_type": "stream",
     "text": [
      "```json\n",
      "{\n",
      "  \"response\": \"Okay, I'll update the RAM to 12GB for the mobile. Shall I search now?\",\n",
      "  \"updated_slots\": {\n",
      "    \"category\": \"electronics\",\n",
      "    \"subcategory\": \"mobile\",\n",
      "    \"ram_gb\": 12\n",
      "  },\n",
      "  \"constraints\": [\n",
      "    {\n",
      "      \"key\": \"ram_gb\",\n",
      "      \"op\": \"==\",\n",
      "      \"value\": 12,\n",
      "      \"dtype\": \"int\",\n",
      "      \"source\": \"current_query\"\n",
      "    }\n",
      "  ],\n",
      "  \"chosen_tool\": {\n",
      "    \"name\": \"filter_products\",\n",
      "    \"params\": {\n",
      "      \"mandatory\": {\n",
      "        \"subcategory\": \"mobile\",\n",
      "        \"category\": \"electronics\"\n",
      "      },\n",
      "      \"optional\": {\n",
      "        \"specifications\": [\n",
      "          {\n",
      "            \"key\": \"ram_gb\",\n",
      "            \"op\": \"==\",\n",
      "            \"value\": 12\n",
      "          }\n",
      "        ]\n",
      "      }\n",
      "    }\n",
      "  },\n",
      "  \"execute_flag\": true,\n",
      "  \"tool_needed\": null,\n",
      "  \"clarification_question\": null,\n",
      "  \"one_shot_optional_prompt\": \"Do you have a preferred brand?\",\n",
      "  \"suggested_footnotes\": [\n",
      "    \"Top by reviews\",\n",
      "    \"Low return rate\",\n",
      "    \"Short review summary\"\n",
      "  ]\n",
      "}\n",
      "```\n"
     ]
    }
   ],
   "execution_count": 12
  },
  {
   "metadata": {
    "ExecuteTime": {
     "end_time": "2025-09-05T16:17:13.408584100Z",
     "start_time": "2025-09-05T13:36:24.455261Z"
    }
   },
   "cell_type": "code",
   "source": "",
   "id": "89e728e39f6ec604",
   "outputs": [],
   "execution_count": null
  },
  {
   "metadata": {
    "ExecuteTime": {
     "end_time": "2025-09-05T16:17:13.409598500Z",
     "start_time": "2025-09-05T13:36:24.470696Z"
    }
   },
   "cell_type": "code",
   "source": [
    "user_prompt_11 = str({\n",
    "    \"id\": 11,\n",
    "    \"type\": \"out_of_scope\",\n",
    "    \"conversation_context\": [\n",
    "      {\"role\": \"user\", \"content\": \"How many orders did I place last year?\"}\n",
    "    ],\n",
    "    \"current_query\": \"How many orders did I place last year?\",\n",
    "    \"slots_till_now\": {},\n",
    "    \"fsm_state\": \"COLLECTING\",\n",
    "    \"available_tools\": [\"filter_products\",\"rank_products_by_reviews\"],\n",
    "    \"spec_keys\": {}\n",
    "  })\n",
    "\n",
    "response = await llm_client.generate(SYSTEM_PROMPT, user_prompt_11)\n",
    "print(response)"
   ],
   "id": "ba704f9348059802",
   "outputs": [
    {
     "name": "stdout",
     "output_type": "stream",
     "text": [
      "```json\n",
      "{\n",
      "  \"response\": \"We do not have a relevant tool to answer this query, please ask something else.\",\n",
      "  \"updated_slots\": {},\n",
      "  \"constraints\": [],\n",
      "  \"chosen_tool\": null,\n",
      "  \"execute_flag\": false,\n",
      "  \"tool_needed\": null,\n",
      "  \"clarification_question\": null,\n",
      "  \"one_shot_optional_prompt\": null,\n",
      "  \"suggested_footnotes\": []\n",
      "}\n",
      "```\n"
     ]
    }
   ],
   "execution_count": 13
  },
  {
   "metadata": {
    "ExecuteTime": {
     "end_time": "2025-09-05T16:17:13.409598500Z",
     "start_time": "2025-09-05T13:36:25.783169Z"
    }
   },
   "cell_type": "code",
   "source": "",
   "id": "6ce87d3b3076461d",
   "outputs": [],
   "execution_count": null
  },
  {
   "metadata": {
    "ExecuteTime": {
     "end_time": "2025-09-05T16:17:13.410600600Z",
     "start_time": "2025-09-05T13:36:25.789625Z"
    }
   },
   "cell_type": "code",
   "source": [
    "user_prompt_12 = str({\n",
    "    \"id\": 12,\n",
    "    \"type\": \"out_of_scope\",\n",
    "    \"conversation_context\": [\n",
    "      {\"role\": \"user\", \"content\": \"Which of my past purchases were returned?\"}\n",
    "    ],\n",
    "    \"current_query\": \"Which of my past purchases were returned?\",\n",
    "    \"slots_till_now\": {\"user_id\": 555},\n",
    "    \"fsm_state\": \"COLLECTING\",\n",
    "    \"available_tools\": [\"filter_products\",\"get_product_reviews\"],\n",
    "    \"spec_keys\": {}\n",
    "  })\n",
    "\n",
    "response = await llm_client.generate(SYSTEM_PROMPT, user_prompt_12)\n",
    "print(response)"
   ],
   "id": "fb8416b7dca0b311",
   "outputs": [
    {
     "name": "stdout",
     "output_type": "stream",
     "text": [
      "```json\n",
      "{\n",
      "  \"response\": \"We do not have a relevant tool to answer this query, please ask something else.\",\n",
      "  \"updated_slots\": {},\n",
      "  \"constraints\": [],\n",
      "  \"chosen_tool\": null,\n",
      "  \"execute_flag\": false,\n",
      "  \"tool_needed\": null,\n",
      "  \"clarification_question\": null,\n",
      "  \"one_shot_optional_prompt\": null,\n",
      "  \"suggested_footnotes\": []\n",
      "}\n",
      "```\n"
     ]
    }
   ],
   "execution_count": 14
  },
  {
   "metadata": {
    "ExecuteTime": {
     "end_time": "2025-09-05T16:18:04.748259Z",
     "start_time": "2025-09-05T16:18:04.743994Z"
    }
   },
   "cell_type": "code",
   "source": "1",
   "id": "2fadeaff19ff40e6",
   "outputs": [
    {
     "data": {
      "text/plain": [
       "1"
      ]
     },
     "execution_count": 8,
     "metadata": {},
     "output_type": "execute_result"
    }
   ],
   "execution_count": 8
  },
  {
   "metadata": {},
   "cell_type": "code",
   "outputs": [],
   "execution_count": null,
   "source": "",
   "id": "fdc2397aa631b898"
  }
 ],
 "metadata": {
  "kernelspec": {
   "display_name": "Python 3",
   "language": "python",
   "name": "python3"
  },
  "language_info": {
   "codemirror_mode": {
    "name": "ipython",
    "version": 2
   },
   "file_extension": ".py",
   "mimetype": "text/x-python",
   "name": "python",
   "nbconvert_exporter": "python",
   "pygments_lexer": "ipython2",
   "version": "2.7.6"
  }
 },
 "nbformat": 4,
 "nbformat_minor": 5
}
