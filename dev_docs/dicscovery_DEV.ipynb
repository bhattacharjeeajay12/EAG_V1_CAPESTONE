{
 "cells": [
  {
   "cell_type": "code",
   "id": "initial_id",
   "metadata": {
    "collapsed": true,
    "ExecuteTime": {
     "end_time": "2025-09-05T11:36:17.073424Z",
     "start_time": "2025-09-05T11:36:16.236431Z"
    }
   },
   "source": [
    "from core.llm_client import LLMClient\n",
    "import os\n",
    "\n",
    "model_type = os.getenv(\"MODEL_TYPE\", \"openai\")\n",
    "llm_client = LLMClient(model_type=model_type)"
   ],
   "outputs": [],
   "execution_count": 1
  },
  {
   "metadata": {
    "ExecuteTime": {
     "end_time": "2025-09-05T11:38:43.173946Z",
     "start_time": "2025-09-05T11:38:43.170790Z"
    }
   },
   "cell_type": "code",
   "source": [
    "from prompts.discovery import SYSTEM_PROMPT\n",
    "from tools.registry import ToolRegistry\n",
    "from utility import load_json\n",
    "\n",
    "registry_json = load_json(os.path.join(\"tools\", \"registry.json\"))"
   ],
   "id": "dedab6229e21b3b0",
   "outputs": [],
   "execution_count": 4
  },
  {
   "metadata": {
    "ExecuteTime": {
     "end_time": "2025-09-05T11:40:52.841261Z",
     "start_time": "2025-09-05T11:40:52.834218Z"
    }
   },
   "cell_type": "code",
   "source": [
    "user_prompt = {\n",
    "    \"id\": 1,\n",
    "    \"type\": \"straightforward\",\n",
    "    \"conversation_context\": [\n",
    "      {\"role\": \"user\", \"content\": \"Show me Apple laptops under $1200 with at least 16GB RAM\"}\n",
    "    ],\n",
    "    \"current_query\": \"Show me Apple laptops under $1200 with at least 16GB RAM\",\n",
    "    \"slots_till_now\": {},\n",
    "    \"fsm_state\": \"COLLECTING\",\n",
    "    \"available_tools\": registry_json,\n",
    "    \"spec_keys\": [\"brand\", \"ram_gb\", \"storage_gb\", \"screen_size_inches\"]\n",
    "  }"
   ],
   "id": "13a051e0bbd430b4",
   "outputs": [],
   "execution_count": 5
  },
  {
   "metadata": {
    "ExecuteTime": {
     "end_time": "2025-09-05T11:41:08.561471Z",
     "start_time": "2025-09-05T11:41:08.554076Z"
    }
   },
   "cell_type": "code",
   "source": "user_prompt",
   "id": "3dc519cbd9d6af02",
   "outputs": [
    {
     "data": {
      "text/plain": [
       "{'id': 1,\n",
       " 'type': 'straightforward',\n",
       " 'conversation_context': [{'role': 'user',\n",
       "   'content': 'Show me Apple laptops under $1200 with at least 16GB RAM'}],\n",
       " 'current_query': 'Show me Apple laptops under $1200 with at least 16GB RAM',\n",
       " 'slots_till_now': {},\n",
       " 'fsm_state': 'COLLECTING',\n",
       " 'available_tools': {'DISCOVERY': {'available_tools': [{'name': 'filter_products',\n",
       "     'description': 'Filter products in a subcategory using specifications like RAM, storage, screen size, etc.',\n",
       "     'mandatory_params': [{'name': 'subcategory',\n",
       "       'type': 'string',\n",
       "       'description': 'subcategory of the product.',\n",
       "       'examples': ['laptop', 'mobile', 'treadmill']},\n",
       "      {'name': 'category',\n",
       "       'type': 'string',\n",
       "       'description': 'category of the product.',\n",
       "       'examples': ['electronics', 'sports']}],\n",
       "     'optional_params': [{'name': 'brand',\n",
       "       'type': 'string',\n",
       "       'description': 'subcategory of the product.',\n",
       "       'examples': ['Apple', 'lenovo', 'samsung']},\n",
       "      {'name': 'price_range',\n",
       "       'type': 'list',\n",
       "       'description': 'price range of the product - [minimum, maximum].',\n",
       "       'examples': [[0, 70000], [20000, 190000]]}],\n",
       "     'returns': ['dataframe of filtered products.']},\n",
       "    {'name': 'get_product_reviews',\n",
       "     'description': 'Retrieve raw reviews for a specific product, including rating, title, text, date, and helpful votes.',\n",
       "     'mandatory_params': [{'name': 'product_id',\n",
       "       'type': 'int',\n",
       "       'description': 'unique product identifier',\n",
       "       'examples': [12345, 98765]},\n",
       "      {'name': 'product_name',\n",
       "       'type': 'string',\n",
       "       'description': 'product name (alternative to product_id)',\n",
       "       'examples': ['MacBook Air', 'Galaxy S21']}],\n",
       "     'optional_params': [{'name': 'limit',\n",
       "       'type': 'int',\n",
       "       'description': 'maximum number of reviews to return',\n",
       "       'examples': [10, 50]},\n",
       "      {'name': 'sort_by',\n",
       "       'type': 'string',\n",
       "       'description': 'sort field (date, helpful_votes, rating)',\n",
       "       'examples': ['date', 'helpful_votes', 'rating']},\n",
       "      {'name': 'min_rating',\n",
       "       'type': 'int',\n",
       "       'description': 'filter reviews with rating >= value',\n",
       "       'examples': [4]}],\n",
       "     'returns': ['dataframe of reviews with columns: review_id, user_id, product_id, rating, review_title, review_text, review_date, helpful_votes_count']},\n",
       "    {'name': 'rank_products_by_reviews',\n",
       "     'description': 'Rank products by average rating (optionally constrained by category/subcategory or price).',\n",
       "     'mandatory_params': [{'name': 'subcategory',\n",
       "       'type': 'string',\n",
       "       'description': 'product subcategory to rank within',\n",
       "       'examples': ['laptop', 'mobile']},\n",
       "      {'name': 'category',\n",
       "       'type': 'string',\n",
       "       'description': 'product category (optional if subcategory provided)',\n",
       "       'examples': ['electronics', 'sports']}],\n",
       "     'optional_params': [{'name': 'limit',\n",
       "       'type': 'int',\n",
       "       'description': 'number of top products to return',\n",
       "       'examples': [5, 10]},\n",
       "      {'name': 'min_review_count',\n",
       "       'type': 'int',\n",
       "       'description': 'minimum number of reviews required to consider a product',\n",
       "       'examples': [10, 50]},\n",
       "      {'name': 'price_range',\n",
       "       'type': 'list',\n",
       "       'description': 'price range filter [min, max]',\n",
       "       'examples': [[0, 1000], [500, 2000]]}],\n",
       "     'returns': ['dataframe of products ranked by avg_rating with columns: product_id, product_name, avg_rating, review_count']},\n",
       "    {'name': 'rank_products_by_review_count',\n",
       "     'description': 'Return products ordered by number of reviews (popularity by count).',\n",
       "     'mandatory_params': [{'name': 'subcategory',\n",
       "       'type': 'string',\n",
       "       'description': 'product subcategory to consider',\n",
       "       'examples': ['laptop', 'headphones']}],\n",
       "     'optional_params': [{'name': 'limit',\n",
       "       'type': 'int',\n",
       "       'description': 'number of products to return',\n",
       "       'examples': [10, 20]},\n",
       "      {'name': 'min_rating',\n",
       "       'type': 'int',\n",
       "       'description': 'only include products with avg rating >= value',\n",
       "       'examples': [3, 4]}],\n",
       "     'returns': ['dataframe of products ordered by review_count with columns: product_id, product_name, review_count, avg_rating']},\n",
       "    {'name': 'filter_products_by_review_votes',\n",
       "     'description': 'Filter or surface reviews/products by helpful vote thresholds or surface top helpful reviews for a product.',\n",
       "     'mandatory_params': [{'name': 'product_id',\n",
       "       'type': 'int',\n",
       "       'description': 'product identifier (for review-level queries)',\n",
       "       'examples': [12345]},\n",
       "      {'name': 'subcategory',\n",
       "       'type': 'string',\n",
       "       'description': 'for product-level queries (alternative to product_id)',\n",
       "       'examples': ['mobile', 'laptop']}],\n",
       "     'optional_params': [{'name': 'min_helpful_votes',\n",
       "       'type': 'int',\n",
       "       'description': 'minimum helpful votes to include a review',\n",
       "       'examples': [5, 20]},\n",
       "      {'name': 'limit',\n",
       "       'type': 'int',\n",
       "       'description': 'max number of reviews or products to return',\n",
       "       'examples': [5, 10]},\n",
       "      {'name': 'sort_by',\n",
       "       'type': 'string',\n",
       "       'description': 'sorting preference (helpful_votes, rating)',\n",
       "       'examples': ['helpful_votes', 'rating']}],\n",
       "     'returns': ['dataframe of reviews or products filtered by helpful votes with columns appropriate to query']},\n",
       "    {'name': 'compare_reviews',\n",
       "     'description': 'Compare review statistics (avg rating, review_count, sentiment highlights) across multiple products or brands.',\n",
       "     'mandatory_params': [{'name': 'compare_ids',\n",
       "       'type': 'list',\n",
       "       'description': 'list of product_ids or brand names to compare',\n",
       "       'examples': [[12345, 67890], ['Dell', 'HP']]}],\n",
       "     'optional_params': [{'name': 'spec_keys',\n",
       "       'type': 'list',\n",
       "       'description': 'specs to include in the comparison (optional)',\n",
       "       'examples': ['battery_hours', 'ram_gb']},\n",
       "      {'name': 'limit_reviews',\n",
       "       'type': 'int',\n",
       "       'description': 'limit number of reviews to summarize per product',\n",
       "       'examples': [50]}],\n",
       "     'returns': ['comparison dataframe with columns: entity, avg_rating, review_count, top_positive_highlights, top_negative_highlights']}]}},\n",
       " 'spec_keys': {'brand': 'Apple',\n",
       "  'ram_gb': '8',\n",
       "  'storage_gb': '256',\n",
       "  'screen_size_inches': '13'}}"
      ]
     },
     "execution_count": 7,
     "metadata": {},
     "output_type": "execute_result"
    }
   ],
   "execution_count": 7
  },
  {
   "metadata": {},
   "cell_type": "markdown",
   "source": "### Input-1",
   "id": "1f874fc30b44bcac"
  },
  {
   "metadata": {
    "ExecuteTime": {
     "end_time": "2025-09-05T10:07:22.499287Z",
     "start_time": "2025-09-05T10:07:22.496354Z"
    }
   },
   "cell_type": "code",
   "source": "",
   "id": "22efacc7ec184afd",
   "outputs": [],
   "execution_count": null
  },
  {
   "metadata": {
    "ExecuteTime": {
     "end_time": "2025-09-05T10:07:23.132301Z",
     "start_time": "2025-09-05T10:07:23.129169Z"
    }
   },
   "cell_type": "code",
   "source": "",
   "id": "b2156eeb5e0310e4",
   "outputs": [],
   "execution_count": null
  },
  {
   "metadata": {
    "ExecuteTime": {
     "end_time": "2025-09-05T10:04:24.168332Z",
     "start_time": "2025-09-05T10:04:24.166325Z"
    }
   },
   "cell_type": "code",
   "source": "",
   "id": "bd8d6a12feb47874",
   "outputs": [],
   "execution_count": null
  },
  {
   "metadata": {},
   "cell_type": "code",
   "outputs": [],
   "execution_count": null,
   "source": "",
   "id": "fb9956cd5e3dfdc6"
  }
 ],
 "metadata": {
  "kernelspec": {
   "display_name": "Python 3",
   "language": "python",
   "name": "python3"
  },
  "language_info": {
   "codemirror_mode": {
    "name": "ipython",
    "version": 2
   },
   "file_extension": ".py",
   "mimetype": "text/x-python",
   "name": "python",
   "nbconvert_exporter": "python",
   "pygments_lexer": "ipython2",
   "version": "2.7.6"
  }
 },
 "nbformat": 4,
 "nbformat_minor": 5
}
