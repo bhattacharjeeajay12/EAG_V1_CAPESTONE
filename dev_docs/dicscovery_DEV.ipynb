{
 "cells": [
  {
   "cell_type": "code",
   "id": "initial_id",
   "metadata": {
    "collapsed": true,
    "ExecuteTime": {
     "end_time": "2025-09-05T10:01:53.373943Z",
     "start_time": "2025-09-05T10:01:52.536372Z"
    }
   },
   "source": [
    "from core.llm_client import LLMClient\n",
    "import os\n",
    "\n",
    "model_type = os.getenv(\"MODEL_TYPE\", \"openai\")\n",
    "llm_client = LLMClient(model_type=model_type)"
   ],
   "outputs": [],
   "execution_count": 1
  },
  {
   "metadata": {
    "ExecuteTime": {
     "end_time": "2025-09-05T10:01:53.386174Z",
     "start_time": "2025-09-05T10:01:53.379312Z"
    }
   },
   "cell_type": "code",
   "source": "from prompts.discovery import SYSTEM_PROMPT",
   "id": "dedab6229e21b3b0",
   "outputs": [
    {
     "name": "stdout",
     "output_type": "stream",
     "text": [
      "Before: D:\\Study\\Programs\\TSAI\\EAG_V1_CAPESTONE\\dev_docs\n",
      "Before: D:\\Study\\Programs\\TSAI\\EAG_V1_CAPESTONE\n"
     ]
    }
   ],
   "execution_count": 2
  },
  {
   "metadata": {
    "ExecuteTime": {
     "end_time": "2025-09-05T10:01:53.399367Z",
     "start_time": "2025-09-05T10:01:53.395694Z"
    }
   },
   "cell_type": "code",
   "source": "print(SYSTEM_PROMPT)",
   "id": "13a051e0bbd430b4",
   "outputs": [
    {
     "name": "stdout",
     "output_type": "stream",
     "text": [
      "\n",
      "You are DiscoveryAgent in an e-commerce system. \n",
      "Your job has three parts: \n",
      "1. Relevant Slot Identification \n",
      "2. Tool Discovery \n",
      "3. Parameter Dictionary Construction \n",
      "\n",
      "==============================\n",
      "1. Relevant Slot Identification\n",
      "==============================\n",
      "- You will receive the last 5 conversation turns and the current user query. \n",
      "- Maintain only slots that are **still relevant** to the user’s intent. \n",
      "- If the user has changed the category/subcategory or constraints, drop irrelevant slots. \n",
      "- Example: \n",
      "  - If user switched from \"laptop\" to \"mobile\", remove \"laptop\" slot. \n",
      "  - If user changed budget from $1500 to $1000, keep only the latest one. \n",
      "- Slots should represent the **current, active constraints only**.\n",
      "\n",
      "==============================\n",
      "2. Tool Discovery\n",
      "==============================\n",
      "- You will be provided with a list of available tools. \n",
      "- Based on the user’s query and current relevant slots, select the tool(s) that can answer the query. \n",
      "- If no tool matches, reply: \n",
      "  \"We do not have a relevant tool to answer this query, please ask something else.\" \n",
      "- Do not force-fit a query into an unrelated tool. \n",
      "\n",
      "==============================\n",
      "3. Parameter Dictionary Construction\n",
      "==============================\n",
      "- For the selected tool, prepare the input parameters in dictionary form. \n",
      "- Each parameter must match what the tool expects. \n",
      "- Translate natural language constraints into structured parameter dictionaries. \n",
      "- Examples: \n",
      "  - \"budget under $1500\" → {\"key\": \"price\", \"op\": \"<=\", \"value\": 1500}\n",
      "  - \"at least 16GB RAM\" → {\"key\": \"ram_gb\", \"op\": \">=\", \"value\": 16}\n",
      "  - \"size between 13 and 15 inches\" → {\"key\": \"screen_size_inches\", \"op\": \"BETWEEN\", \"value\": [13,15]}\n",
      "  - \"memory exactly 512GB\" → {\"key\": \"storage_gb\", \"op\": \"==\", \"value\": 512}\n",
      "  - \"brand Dell\" → {\"key\": \"brand\", \"op\": \"==\", \"value\": \"Dell\"}\n",
      "- You will also be given the list of available specifications for the subcategory with examples. \n",
      "  Use this to decide which keys/values are valid.\n",
      "\n",
      "==============================\n",
      "Input you will receive:\n",
      "==============================\n",
      "{\n",
      "  \"conversation_context\": [\n",
      "    {\"role\": \"user\", \"content\": \"...\"},\n",
      "    {\"role\": \"assistant\", \"content\": \"...\"},\n",
      "    ...\n",
      "  ],\n",
      "  \"current_query\": \"string\",\n",
      "  \"slots_till_now\": { \"dict of slots\" },\n",
      "  \"fsm_state\": \"string\",\n",
      "  \"available_tools\": [\"list of tool definitions\"],\n",
      "  \"spec_keys\": { \"spec_name\": \"example_value / type\" }\n",
      "}\n",
      "\n",
      "==============================\n",
      "Output you must produce: \n",
      "==============================\n",
      "{\n",
      "  \"response\": \"assistant natural reply to the user\",\n",
      "  \"updated_slots\": { \"dict of slots after this query\" },\n",
      "  \"clarification_question\": \"string or null\",\n",
      "  \"proposed_tool\": { \"name\": \"string\", \"params\": { ... } } or null,\n",
      "  \"tool_needed\": \"name of tool or null\"\n",
      "}\n",
      "\n",
      "this is the tool list:\n",
      "{'DISCOVERY': {'available_tools': [{'name': 'filter_products', 'description': 'Filter products in a subcategory using specifications like RAM, storage, screen size, etc.', 'mandatory_params': [{'name': 'subcategory', 'type': 'string', 'description': 'subcategory of the product.', 'examples': ['laptop', 'mobile', 'treadmill']}, {'name': 'category', 'type': 'string', 'description': 'category of the product.', 'examples': ['electronics', 'sports']}], 'optional_params': [{'name': 'brand', 'type': 'string', 'description': 'subcategory of the product.', 'examples': ['Apple', 'lenovo', 'samsung']}, {'name': 'price_range', 'type': 'list', 'description': 'price range of the product - [minimum, maximum].', 'examples': [[0, 70000], [20000, 190000]]}], 'returns': ['dataframe of filtered products.']}, {'name': 'get_product_reviews', 'description': 'Retrieve raw reviews for a specific product, including rating, title, text, date, and helpful votes.', 'mandatory_params': [{'name': 'product_id', 'type': 'int', 'description': 'unique product identifier', 'examples': [12345, 98765]}, {'name': 'product_name', 'type': 'string', 'description': 'product name (alternative to product_id)', 'examples': ['MacBook Air', 'Galaxy S21']}], 'optional_params': [{'name': 'limit', 'type': 'int', 'description': 'maximum number of reviews to return', 'examples': [10, 50]}, {'name': 'sort_by', 'type': 'string', 'description': 'sort field (date, helpful_votes, rating)', 'examples': ['date', 'helpful_votes', 'rating']}, {'name': 'min_rating', 'type': 'int', 'description': 'filter reviews with rating >= value', 'examples': [4]}], 'returns': ['dataframe of reviews with columns: review_id, user_id, product_id, rating, review_title, review_text, review_date, helpful_votes_count']}, {'name': 'rank_products_by_reviews', 'description': 'Rank products by average rating (optionally constrained by category/subcategory or price).', 'mandatory_params': [{'name': 'subcategory', 'type': 'string', 'description': 'product subcategory to rank within', 'examples': ['laptop', 'mobile']}, {'name': 'category', 'type': 'string', 'description': 'product category (optional if subcategory provided)', 'examples': ['electronics', 'sports']}], 'optional_params': [{'name': 'limit', 'type': 'int', 'description': 'number of top products to return', 'examples': [5, 10]}, {'name': 'min_review_count', 'type': 'int', 'description': 'minimum number of reviews required to consider a product', 'examples': [10, 50]}, {'name': 'price_range', 'type': 'list', 'description': 'price range filter [min, max]', 'examples': [[0, 1000], [500, 2000]]}], 'returns': ['dataframe of products ranked by avg_rating with columns: product_id, product_name, avg_rating, review_count']}, {'name': 'rank_products_by_review_count', 'description': 'Return products ordered by number of reviews (popularity by count).', 'mandatory_params': [{'name': 'subcategory', 'type': 'string', 'description': 'product subcategory to consider', 'examples': ['laptop', 'headphones']}], 'optional_params': [{'name': 'limit', 'type': 'int', 'description': 'number of products to return', 'examples': [10, 20]}, {'name': 'min_rating', 'type': 'int', 'description': 'only include products with avg rating >= value', 'examples': [3, 4]}], 'returns': ['dataframe of products ordered by review_count with columns: product_id, product_name, review_count, avg_rating']}, {'name': 'filter_products_by_review_votes', 'description': 'Filter or surface reviews/products by helpful vote thresholds or surface top helpful reviews for a product.', 'mandatory_params': [{'name': 'product_id', 'type': 'int', 'description': 'product identifier (for review-level queries)', 'examples': [12345]}, {'name': 'subcategory', 'type': 'string', 'description': 'for product-level queries (alternative to product_id)', 'examples': ['mobile', 'laptop']}], 'optional_params': [{'name': 'min_helpful_votes', 'type': 'int', 'description': 'minimum helpful votes to include a review', 'examples': [5, 20]}, {'name': 'limit', 'type': 'int', 'description': 'max number of reviews or products to return', 'examples': [5, 10]}, {'name': 'sort_by', 'type': 'string', 'description': 'sorting preference (helpful_votes, rating)', 'examples': ['helpful_votes', 'rating']}], 'returns': ['dataframe of reviews or products filtered by helpful votes with columns appropriate to query']}, {'name': 'compare_reviews', 'description': 'Compare review statistics (avg rating, review_count, sentiment highlights) across multiple products or brands.', 'mandatory_params': [{'name': 'compare_ids', 'type': 'list', 'description': 'list of product_ids or brand names to compare', 'examples': [[12345, 67890], ['Dell', 'HP']]}], 'optional_params': [{'name': 'spec_keys', 'type': 'list', 'description': 'specs to include in the comparison (optional)', 'examples': ['battery_hours', 'ram_gb']}, {'name': 'limit_reviews', 'type': 'int', 'description': 'limit number of reviews to summarize per product', 'examples': [50]}], 'returns': ['comparison dataframe with columns: entity, avg_rating, review_count, top_positive_highlights, top_negative_highlights']}]}} \n",
      "\n",
      "Rules:\n",
      "- Always generate a natural conversational response to the user. \n",
      "- Only propose a tool if sufficient parameters exist. \n",
      "- If not enough info, ask a clarification question. \n",
      "- Remove irrelevant slots, keep only relevant ones. \n",
      "- Choose the tool that best matches the user’s request.\n",
      "\n"
     ]
    }
   ],
   "execution_count": 3
  },
  {
   "metadata": {
    "ExecuteTime": {
     "end_time": "2025-09-05T09:55:02.843295Z",
     "start_time": "2025-09-05T09:55:02.839670Z"
    }
   },
   "cell_type": "code",
   "source": [
    "from utility import load_json\n",
    "registry_json = load_json(os.path.join(\"..\", \"tools\", \"registry.json\"))"
   ],
   "id": "22efacc7ec184afd",
   "outputs": [],
   "execution_count": 14
  },
  {
   "metadata": {
    "ExecuteTime": {
     "end_time": "2025-09-05T09:55:04.797837Z",
     "start_time": "2025-09-05T09:55:04.791081Z"
    }
   },
   "cell_type": "code",
   "source": "registry_json",
   "id": "b2156eeb5e0310e4",
   "outputs": [
    {
     "data": {
      "text/plain": [
       "{'DISCOVERY': {'available_tools': [{'name': 'filter_products',\n",
       "    'description': 'Filter products in a subcategory using specifications like RAM, storage, screen size, etc.',\n",
       "    'mandatory_params': [{'name': 'subcategory',\n",
       "      'type': 'string',\n",
       "      'description': 'subcategory of the product.',\n",
       "      'examples': ['laptop', 'mobile', 'treadmill']},\n",
       "     {'name': 'category',\n",
       "      'type': 'string',\n",
       "      'description': 'category of the product.',\n",
       "      'examples': ['electronics', 'sports']}],\n",
       "    'optional_params': [{'name': 'brand',\n",
       "      'type': 'string',\n",
       "      'description': 'subcategory of the product.',\n",
       "      'examples': ['Apple', 'lenovo', 'samsung']},\n",
       "     {'name': 'price_range',\n",
       "      'type': 'list',\n",
       "      'description': 'price range of the product - [minimum, maximum].',\n",
       "      'examples': [[0, 70000], [20000, 190000]]}],\n",
       "    'returns': ['dataframe of filtered products.']},\n",
       "   {'name': 'get_product_reviews',\n",
       "    'description': 'Retrieve raw reviews for a specific product, including rating, title, text, date, and helpful votes.',\n",
       "    'mandatory_params': [{'name': 'product_id',\n",
       "      'type': 'int',\n",
       "      'description': 'unique product identifier',\n",
       "      'examples': [12345, 98765]},\n",
       "     {'name': 'product_name',\n",
       "      'type': 'string',\n",
       "      'description': 'product name (alternative to product_id)',\n",
       "      'examples': ['MacBook Air', 'Galaxy S21']}],\n",
       "    'optional_params': [{'name': 'limit',\n",
       "      'type': 'int',\n",
       "      'description': 'maximum number of reviews to return',\n",
       "      'examples': [10, 50]},\n",
       "     {'name': 'sort_by',\n",
       "      'type': 'string',\n",
       "      'description': 'sort field (date, helpful_votes, rating)',\n",
       "      'examples': ['date', 'helpful_votes', 'rating']},\n",
       "     {'name': 'min_rating',\n",
       "      'type': 'int',\n",
       "      'description': 'filter reviews with rating >= value',\n",
       "      'examples': [4]}],\n",
       "    'returns': ['dataframe of reviews with columns: review_id, user_id, product_id, rating, review_title, review_text, review_date, helpful_votes_count']},\n",
       "   {'name': 'rank_products_by_reviews',\n",
       "    'description': 'Rank products by average rating (optionally constrained by category/subcategory or price).',\n",
       "    'mandatory_params': [{'name': 'subcategory',\n",
       "      'type': 'string',\n",
       "      'description': 'product subcategory to rank within',\n",
       "      'examples': ['laptop', 'mobile']},\n",
       "     {'name': 'category',\n",
       "      'type': 'string',\n",
       "      'description': 'product category (optional if subcategory provided)',\n",
       "      'examples': ['electronics', 'sports']}],\n",
       "    'optional_params': [{'name': 'limit',\n",
       "      'type': 'int',\n",
       "      'description': 'number of top products to return',\n",
       "      'examples': [5, 10]},\n",
       "     {'name': 'min_review_count',\n",
       "      'type': 'int',\n",
       "      'description': 'minimum number of reviews required to consider a product',\n",
       "      'examples': [10, 50]},\n",
       "     {'name': 'price_range',\n",
       "      'type': 'list',\n",
       "      'description': 'price range filter [min, max]',\n",
       "      'examples': [[0, 1000], [500, 2000]]}],\n",
       "    'returns': ['dataframe of products ranked by avg_rating with columns: product_id, product_name, avg_rating, review_count']},\n",
       "   {'name': 'rank_products_by_review_count',\n",
       "    'description': 'Return products ordered by number of reviews (popularity by count).',\n",
       "    'mandatory_params': [{'name': 'subcategory',\n",
       "      'type': 'string',\n",
       "      'description': 'product subcategory to consider',\n",
       "      'examples': ['laptop', 'headphones']}],\n",
       "    'optional_params': [{'name': 'limit',\n",
       "      'type': 'int',\n",
       "      'description': 'number of products to return',\n",
       "      'examples': [10, 20]},\n",
       "     {'name': 'min_rating',\n",
       "      'type': 'int',\n",
       "      'description': 'only include products with avg rating >= value',\n",
       "      'examples': [3, 4]}],\n",
       "    'returns': ['dataframe of products ordered by review_count with columns: product_id, product_name, review_count, avg_rating']},\n",
       "   {'name': 'filter_products_by_review_votes',\n",
       "    'description': 'Filter or surface reviews/products by helpful vote thresholds or surface top helpful reviews for a product.',\n",
       "    'mandatory_params': [{'name': 'product_id',\n",
       "      'type': 'int',\n",
       "      'description': 'product identifier (for review-level queries)',\n",
       "      'examples': [12345]},\n",
       "     {'name': 'subcategory',\n",
       "      'type': 'string',\n",
       "      'description': 'for product-level queries (alternative to product_id)',\n",
       "      'examples': ['mobile', 'laptop']}],\n",
       "    'optional_params': [{'name': 'min_helpful_votes',\n",
       "      'type': 'int',\n",
       "      'description': 'minimum helpful votes to include a review',\n",
       "      'examples': [5, 20]},\n",
       "     {'name': 'limit',\n",
       "      'type': 'int',\n",
       "      'description': 'max number of reviews or products to return',\n",
       "      'examples': [5, 10]},\n",
       "     {'name': 'sort_by',\n",
       "      'type': 'string',\n",
       "      'description': 'sorting preference (helpful_votes, rating)',\n",
       "      'examples': ['helpful_votes', 'rating']}],\n",
       "    'returns': ['dataframe of reviews or products filtered by helpful votes with columns appropriate to query']},\n",
       "   {'name': 'compare_reviews',\n",
       "    'description': 'Compare review statistics (avg rating, review_count, sentiment highlights) across multiple products or brands.',\n",
       "    'mandatory_params': [{'name': 'compare_ids',\n",
       "      'type': 'list',\n",
       "      'description': 'list of product_ids or brand names to compare',\n",
       "      'examples': [[12345, 67890], ['Dell', 'HP']]}],\n",
       "    'optional_params': [{'name': 'spec_keys',\n",
       "      'type': 'list',\n",
       "      'description': 'specs to include in the comparison (optional)',\n",
       "      'examples': ['battery_hours', 'ram_gb']},\n",
       "     {'name': 'limit_reviews',\n",
       "      'type': 'int',\n",
       "      'description': 'limit number of reviews to summarize per product',\n",
       "      'examples': [50]}],\n",
       "    'returns': ['comparison dataframe with columns: entity, avg_rating, review_count, top_positive_highlights, top_negative_highlights']}]}}"
      ]
     },
     "execution_count": 15,
     "metadata": {},
     "output_type": "execute_result"
    }
   ],
   "execution_count": 15
  },
  {
   "metadata": {
    "ExecuteTime": {
     "end_time": "2025-09-05T09:54:52.175729Z",
     "start_time": "2025-09-05T09:54:52.170568Z"
    }
   },
   "cell_type": "code",
   "source": "pwd",
   "id": "bd8d6a12feb47874",
   "outputs": [
    {
     "data": {
      "text/plain": [
       "'D:\\\\Study\\\\Programs\\\\TSAI\\\\EAG_V1_CAPESTONE\\\\dev_docs'"
      ]
     },
     "execution_count": 13,
     "metadata": {},
     "output_type": "execute_result"
    }
   ],
   "execution_count": 13
  },
  {
   "metadata": {},
   "cell_type": "code",
   "outputs": [],
   "execution_count": null,
   "source": "",
   "id": "fb9956cd5e3dfdc6"
  }
 ],
 "metadata": {
  "kernelspec": {
   "display_name": "Python 3",
   "language": "python",
   "name": "python3"
  },
  "language_info": {
   "codemirror_mode": {
    "name": "ipython",
    "version": 2
   },
   "file_extension": ".py",
   "mimetype": "text/x-python",
   "name": "python",
   "nbconvert_exporter": "python",
   "pygments_lexer": "ipython2",
   "version": "2.7.6"
  }
 },
 "nbformat": 4,
 "nbformat_minor": 5
}
