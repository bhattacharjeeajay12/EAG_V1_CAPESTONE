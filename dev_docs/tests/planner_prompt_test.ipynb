{
 "cells": [
  {
   "cell_type": "code",
   "id": "initial_id",
   "metadata": {
    "collapsed": true,
    "ExecuteTime": {
     "end_time": "2025-09-05T23:02:07.287357Z",
     "start_time": "2025-09-05T23:02:05.169646Z"
    }
   },
   "source": [
    "from core.llm_client import LLMClient\n",
    "import os\n",
    "\n",
    "# model_type = os.getenv(\"MODEL_TYPE\", \"openai\")\n",
    "model_type = os.getenv(\"\", \"gemini\")\n",
    "llm_client = LLMClient(model_type=model_type)\n",
    "\n",
    "model_type"
   ],
   "outputs": [
    {
     "data": {
      "text/plain": [
       "'gemini'"
      ]
     },
     "execution_count": 1,
     "metadata": {},
     "output_type": "execute_result"
    }
   ],
   "execution_count": 1
  },
  {
   "metadata": {
    "ExecuteTime": {
     "end_time": "2025-09-05T23:02:07.319017Z",
     "start_time": "2025-09-05T23:02:07.311457Z"
    }
   },
   "cell_type": "code",
   "source": [
    "from prompts.planner import SYSTEM_PROMPT\n",
    "from utility import load_json"
   ],
   "id": "8eb860ebd85d6727",
   "outputs": [],
   "execution_count": 2
  },
  {
   "metadata": {
    "ExecuteTime": {
     "end_time": "2025-09-05T23:31:15.134214Z",
     "start_time": "2025-09-05T23:31:13.127392Z"
    }
   },
   "cell_type": "code",
   "source": [
    "# Test Case 1 – First Message (new workflow)\n",
    "user_prompt_1= str({\n",
    "  \"CURRENT_MESSAGE\": \"I want to buy a laptop\",\n",
    "  \"PAST_3_TURNS\": [],\n",
    "  \"LAST_INTENT\": \"\"\n",
    "    })\n",
    "response = await llm_client.generate(SYSTEM_PROMPT, user_prompt_1)\n",
    "print(response)"
   ],
   "id": "9ba205a487d3903",
   "outputs": [
    {
     "name": "stdout",
     "output_type": "stream",
     "text": [
      "```json\n",
      "{\n",
      "  \"current_turn\": {\n",
      "    \"intent\": \"DISCOVERY\",\n",
      "    \"confidence\": 0.95,\n",
      "    \"entities\": {\n",
      "      \"products\": [\n",
      "        {\n",
      "          \"category\": \"electronics\",\n",
      "          \"subcategory\": \"laptop\"\n",
      "        }\n",
      "      ]\n",
      "    },\n",
      "    \"referenced_entities\": [],\n",
      "    \"reasoning\": \"User expresses a desire to buy a laptop, indicating a discovery intent related to laptops.\"\n",
      "  },\n",
      "  \"continuity\": {\n",
      "    \"continuity_type\": \"CONTINUATION\",\n",
      "    \"confidence\": 0.9,\n",
      "    \"reasoning\": \"This is the first turn of the conversation, initiating a new discovery workflow for laptops.\",\n",
      "    \"workstream_decision\": {\n",
      "      \"new_workstreams\": [\n",
      "        {\n",
      "          \"type\": \"DISCOVERY\",\n",
      "          \"target\": {\n",
      "            \"category\": \"electronics\",\n",
      "            \"subcategory\": \"laptop\"\n",
      "          }\n",
      "        }\n",
      "      ],\n",
      "      \"existing_workflow_status\": \"NULL\"\n",
      "    },\n",
      "    \"clarification_message\": null\n",
      "  }\n",
      "}\n",
      "```\n"
     ]
    }
   ],
   "execution_count": 16
  },
  {
   "metadata": {},
   "cell_type": "code",
   "outputs": [],
   "execution_count": null,
   "source": "",
   "id": "caea6981f69ab6dc"
  },
  {
   "metadata": {
    "ExecuteTime": {
     "end_time": "2025-09-05T23:30:38.625692Z",
     "start_time": "2025-09-05T23:30:36.386458Z"
    }
   },
   "cell_type": "code",
   "source": [
    "# Test Case 2 – Switch (pause old, add new)\n",
    "user_prompt_2= str({\n",
    "      \"CURRENT_MESSAGE\": \"Also show me smartphones\",\n",
    "      \"PAST_3_TURNS\": [\n",
    "        { \"user\": \"I want to buy a laptop\", \"agent\": \"Here are some options\" }\n",
    "      ],\n",
    "      \"LAST_INTENT\": \"DISCOVERY\"\n",
    "    })\n",
    "response = await llm_client.generate(SYSTEM_PROMPT, user_prompt_2)\n",
    "print(response)"
   ],
   "id": "50835d70a54d013d",
   "outputs": [
    {
     "name": "stdout",
     "output_type": "stream",
     "text": [
      "```json\n",
      "{\n",
      "  \"current_turn\": {\n",
      "    \"intent\": \"DISCOVERY\",\n",
      "    \"confidence\": 0.95,\n",
      "    \"entities\": {\n",
      "      \"products\": [\n",
      "        {\n",
      "          \"category\": \"electronics\",\n",
      "          \"subcategory\": \"smartphone\"\n",
      "        }\n",
      "      ]\n",
      "    },\n",
      "    \"referenced_entities\": [],\n",
      "    \"reasoning\": \"User explicitly adds smartphones to their product search.\"\n",
      "  },\n",
      "  \"continuity\": {\n",
      "    \"continuity_type\": \"SWITCH\",\n",
      "    \"confidence\": 0.9,\n",
      "    \"reasoning\": \"User was in a laptop DISCOVERY workflow and introduced smartphones as a new target.\",\n",
      "    \"workstream_decision\": {\n",
      "      \"new_workstreams\": [\n",
      "        {\n",
      "          \"type\": \"DISCOVERY\",\n",
      "          \"target\": {\n",
      "            \"category\": \"electronics\",\n",
      "            \"subcategory\": \"smartphone\"\n",
      "          }\n",
      "        }\n",
      "      ],\n",
      "      \"existing_workflow_status\": \"PAUSE\"\n",
      "    },\n",
      "    \"clarification_message\": \"You are now looking at laptops and smartphones. Do you want me to create a new workflow for smartphones?\"\n",
      "  }\n",
      "}\n",
      "```\n"
     ]
    }
   ],
   "execution_count": 15
  },
  {
   "metadata": {
    "ExecuteTime": {
     "end_time": "2025-09-05T23:04:02.490802Z",
     "start_time": "2025-09-05T23:04:02.488443Z"
    }
   },
   "cell_type": "code",
   "source": "",
   "id": "f5c1639c42cd4b17",
   "outputs": [],
   "execution_count": null
  },
  {
   "metadata": {
    "ExecuteTime": {
     "end_time": "2025-09-05T23:30:21.187334Z",
     "start_time": "2025-09-05T23:30:19.391434Z"
    }
   },
   "cell_type": "code",
   "source": [
    "# Test Case 3 – Referential continuation\n",
    "user_prompt_3= str({\n",
    "      \"CURRENT_MESSAGE\": \"The third in the list looks good\",\n",
    "      \"PAST_3_TURNS\": [\n",
    "        { \"user\": \"Show me laptops\", \"agent\": \"1. Dell, 2. HP, 3. Lenovo\" }\n",
    "      ],\n",
    "      \"LAST_INTENT\": \"DISCOVERY\"\n",
    "    })\n",
    "response = await llm_client.generate(SYSTEM_PROMPT, user_prompt_3)\n",
    "print(response)"
   ],
   "id": "dff47b859d938d5c",
   "outputs": [
    {
     "name": "stdout",
     "output_type": "stream",
     "text": [
      "```json\n",
      "{\n",
      "  \"current_turn\": {\n",
      "    \"intent\": \"DISCOVERY\",\n",
      "    \"confidence\": 0.8,\n",
      "    \"entities\": {\n",
      "      \"products\": []\n",
      "    },\n",
      "    \"referenced_entities\": [\n",
      "      {\n",
      "        \"category\": \"electronics\",\n",
      "        \"subcategory\": \"laptop\",\n",
      "        \"source\": \"agent_list_item_3\"\n",
      "      }\n",
      "    ],\n",
      "    \"reasoning\": \"User selects the third option (Lenovo laptop) from the agent’s list.\"\n",
      "  },\n",
      "  \"continuity\": {\n",
      "    \"continuity_type\": \"CONTINUATION\",\n",
      "    \"confidence\": 0.9,\n",
      "    \"reasoning\": \"User is continuing the ongoing laptop DISCOVERY by selecting a shown option.\",\n",
      "    \"workstream_decision\": {\n",
      "      \"new_workstreams\": [],\n",
      "      \"existing_workflow_status\": \"CONTINUE\"\n",
      "    },\n",
      "    \"clarification_message\": null\n",
      "  }\n",
      "}\n",
      "```\n"
     ]
    }
   ],
   "execution_count": 14
  },
  {
   "metadata": {
    "ExecuteTime": {
     "end_time": "2025-09-05T23:11:52.198920Z",
     "start_time": "2025-09-05T23:11:52.195911Z"
    }
   },
   "cell_type": "code",
   "source": "",
   "id": "b8fa62697cee2166",
   "outputs": [],
   "execution_count": null
  },
  {
   "metadata": {
    "ExecuteTime": {
     "end_time": "2025-09-05T23:30:09.172493Z",
     "start_time": "2025-09-05T23:30:07.167753Z"
    }
   },
   "cell_type": "code",
   "source": [
    "# Test Case 4 – Switch to Return (abandon old)\n",
    "\n",
    "user_prompt_4= str({\n",
    "      \"CURRENT_MESSAGE\": \"I need to return my headphones\",\n",
    "      \"PAST_3_TURNS\": [\n",
    "        { \"user\": \"Show me laptops\", \"agent\": \"Here are some Dell and HP options\" }\n",
    "      ],\n",
    "      \"LAST_INTENT\": \"DISCOVERY\"\n",
    "    })\n",
    "response = await llm_client.generate(SYSTEM_PROMPT, user_prompt_4)\n",
    "print(response)"
   ],
   "id": "24ba4b01a63e0218",
   "outputs": [
    {
     "name": "stdout",
     "output_type": "stream",
     "text": [
      "```json\n",
      "{\n",
      "  \"current_turn\": {\n",
      "    \"intent\": \"RETURN\",\n",
      "    \"confidence\": 0.9,\n",
      "    \"entities\": {\n",
      "      \"products\": [\n",
      "        {\n",
      "          \"category\": \"electronics\",\n",
      "          \"subcategory\": \"headphones\"\n",
      "        }\n",
      "      ]\n",
      "    },\n",
      "    \"referenced_entities\": [],\n",
      "    \"reasoning\": \"The user explicitly states their intention to return headphones.\"\n",
      "  },\n",
      "  \"continuity\": {\n",
      "    \"continuity_type\": \"SWITCH\",\n",
      "    \"confidence\": 0.9,\n",
      "    \"reasoning\": \"The user switches from a laptop discovery workflow to a headphone return workflow.\",\n",
      "    \"workstream_decision\": {\n",
      "      \"new_workstreams\": [\n",
      "        {\n",
      "          \"type\": \"RETURN\",\n",
      "          \"target\": {\n",
      "            \"category\": \"electronics\",\n",
      "            \"subcategory\": \"headphones\"\n",
      "          }\n",
      "        }\n",
      "      ],\n",
      "      \"existing_workflow_status\": \"PAUSE\"\n",
      "    },\n",
      "    \"clarification_message\": \"Okay, let's start the return process for your headphones. I'll pause the laptop search. Is that correct?\"\n",
      "  }\n",
      "}\n",
      "```\n"
     ]
    }
   ],
   "execution_count": 13
  },
  {
   "metadata": {},
   "cell_type": "code",
   "outputs": [],
   "execution_count": null,
   "source": "",
   "id": "ca7a21acd4bd422d"
  },
  {
   "metadata": {
    "ExecuteTime": {
     "end_time": "2025-09-05T23:29:36.877425Z",
     "start_time": "2025-09-05T23:29:34.102778Z"
    }
   },
   "cell_type": "code",
   "source": [
    "# Test Case 5 – Unclear (irrelevant message)\n",
    "user_prompt_5= str({\n",
    "      \"CURRENT_MESSAGE\": \"What a    bout the weather today?\",\n",
    "      \"PAST_3_TURNS\": [\n",
    "        { \"user\": \"I want to buy a laptop\", \"agent\": \"Here are some Dell and HP options\" }\n",
    "      ],\n",
    "      \"LAST_INTENT\": \"DISCOVERY\"\n",
    "    })\n",
    "response = await llm_client.generate(SYSTEM_PROMPT, user_prompt_5)\n",
    "print(response)"
   ],
   "id": "ac7ec02199a3b145",
   "outputs": [
    {
     "name": "stdout",
     "output_type": "stream",
     "text": [
      "```json\n",
      "{\n",
      "  \"current_turn\": {\n",
      "    \"intent\": \"CHITCHAT\",\n",
      "    \"confidence\": 0.8,\n",
      "    \"entities\": {\n",
      "      \"products\": []\n",
      "    },\n",
      "    \"referenced_entities\": [],\n",
      "    \"reasoning\": \"The message is about the weather, indicating a casual conversation unrelated to e-commerce.\"\n",
      "  },\n",
      "  \"continuity\": {\n",
      "    \"continuity_type\": \"UNCLEAR\",\n",
      "    \"confidence\": 0.95,\n",
      "    \"reasoning\": \"The query is irrelevant to the ongoing DISCOVERY workflow for laptops.\",\n",
      "    \"workstream_decision\": {\n",
      "      \"new_workstreams\": [],\n",
      "      \"existing_workflow_status\": \"UNCHANGED\"\n",
      "    },\n",
      "    \"clarification_message\": \"That seems unrelated to shopping. Do you want to continue with laptops?\"\n",
      "  }\n",
      "}\n",
      "```\n"
     ]
    }
   ],
   "execution_count": 12
  },
  {
   "metadata": {},
   "cell_type": "code",
   "outputs": [],
   "execution_count": null,
   "source": "",
   "id": "cb6c0c333c3f14f4"
  }
 ],
 "metadata": {
  "kernelspec": {
   "display_name": "Python 3",
   "language": "python",
   "name": "python3"
  },
  "language_info": {
   "codemirror_mode": {
    "name": "ipython",
    "version": 2
   },
   "file_extension": ".py",
   "mimetype": "text/x-python",
   "name": "python",
   "nbconvert_exporter": "python",
   "pygments_lexer": "ipython2",
   "version": "2.7.6"
  }
 },
 "nbformat": 4,
 "nbformat_minor": 5
}
