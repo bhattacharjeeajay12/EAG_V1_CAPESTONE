{
 "cells": [
  {
   "metadata": {
    "ExecuteTime": {
     "end_time": "2025-09-01T14:37:08.724068Z",
     "start_time": "2025-09-01T14:37:08.721173Z"
    }
   },
   "cell_type": "code",
   "source": "import json",
   "id": "7f91e20bd795fd28",
   "outputs": [],
   "execution_count": 1
  },
  {
   "metadata": {
    "ExecuteTime": {
     "end_time": "2025-09-01T15:36:41.020956Z",
     "start_time": "2025-09-01T15:36:41.008957Z"
    }
   },
   "cell_type": "code",
   "source": "1",
   "id": "dc2073579122e6a1",
   "outputs": [
    {
     "data": {
      "text/plain": [
       "1"
      ]
     },
     "execution_count": 2,
     "metadata": {},
     "output_type": "execute_result"
    }
   ],
   "execution_count": 2
  },
  {
   "metadata": {},
   "cell_type": "code",
   "outputs": [],
   "execution_count": null,
   "source": "",
   "id": "ac36940a6bc61b34"
  }
 ],
 "metadata": {
  "kernelspec": {
   "name": "python3",
   "language": "python",
   "display_name": "Python 3 (ipykernel)"
  }
 },
 "nbformat": 4,
 "nbformat_minor": 5
}
